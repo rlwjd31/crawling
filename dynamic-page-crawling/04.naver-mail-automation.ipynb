{
 "cells": [
  {
   "cell_type": "code",
   "execution_count": 14,
   "id": "6460ddb0",
   "metadata": {},
   "outputs": [],
   "source": [
    "import os\n",
    "\n",
    "from dotenv import load_dotenv\n",
    "\n",
    "load_dotenv()\n",
    "\n",
    "ID = os.environ.get(\"ID\")\n",
    "PW = os.environ.get(\"PW\")"
   ]
  },
  {
   "cell_type": "markdown",
   "id": "d3ecf938",
   "metadata": {},
   "source": [
    "테스트 한다고 계속 돌리다가 clipboard를 이용한 우회 방법 또한 CAPTCHA가 발생할 수 있는데  \n",
    "이는 여러 번 로그인을 시도한 케이스라 `실제로 로그인을 한 번 진행` 후 하면 잘 우회된다."
   ]
  },
  {
   "cell_type": "code",
   "execution_count": 17,
   "id": "936d364d",
   "metadata": {},
   "outputs": [],
   "source": [
    "import time\n",
    "\n",
    "import pyperclip\n",
    "from selenium import webdriver\n",
    "from selenium.webdriver.common.by import By\n",
    "from selenium.webdriver.common.keys import Keys\n",
    "\n",
    "\n",
    "NAVER_LOGIN_URL = \"https://nid.naver.com/nidlogin.login?mode=form&url=https://www.naver.com/\"\n",
    "\n",
    "driver =webdriver.Chrome()\n",
    "driver.get(NAVER_LOGIN_URL)\n",
    "\n",
    "# id 입력\n",
    "id_element = driver.find_element(By.CSS_SELECTOR, \"#id\")\n",
    "pyperclip.copy(ID)\n",
    "id_element.send_keys(Keys.COMMAND, 'v')\n",
    "time.sleep(1)\n",
    "\n",
    "# pw 입력\n",
    "pw_element = driver.find_element(By.CSS_SELECTOR, \"#pw\")\n",
    "pyperclip.copy(PW)\n",
    "pw_element.send_keys(Keys.COMMAND, 'v')\n",
    "time.sleep(1)\n",
    "\n",
    "# trigger login submit\n",
    "pw_element.send_keys(Keys.ENTER)\n",
    "\n"
   ]
  },
  {
   "cell_type": "code",
   "execution_count": 16,
   "id": "1b640545",
   "metadata": {},
   "outputs": [],
   "source": [
    "driver.quit()\n",
    "\n",
    "# pip install pypeclip"
   ]
  }
 ],
 "metadata": {
  "kernelspec": {
   "display_name": "crawling",
   "language": "python",
   "name": "python3"
  },
  "language_info": {
   "codemirror_mode": {
    "name": "ipython",
    "version": 3
   },
   "file_extension": ".py",
   "mimetype": "text/x-python",
   "name": "python",
   "nbconvert_exporter": "python",
   "pygments_lexer": "ipython3",
   "version": "3.13.3"
  }
 },
 "nbformat": 4,
 "nbformat_minor": 5
}
