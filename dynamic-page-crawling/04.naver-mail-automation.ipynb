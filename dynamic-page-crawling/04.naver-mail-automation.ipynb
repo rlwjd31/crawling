{
 "cells": [
  {
   "cell_type": "code",
   "execution_count": 14,
   "id": "6460ddb0",
   "metadata": {},
   "outputs": [],
   "source": [
    "import os\n",
    "\n",
    "from dotenv import load_dotenv\n",
    "\n",
    "load_dotenv()\n",
    "\n",
    "ID = os.environ.get(\"ID\")\n",
    "PW = os.environ.get(\"PW\")"
   ]
  },
  {
   "cell_type": "markdown",
   "id": "d3ecf938",
   "metadata": {},
   "source": [
    "테스트 한다고 계속 돌리다가 clipboard를 이용한 우회 방법 또한 CAPTCHA가 발생할 수 있는데  \n",
    "이는 여러 번 로그인을 시도한 케이스라 `실제로 로그인을 한 번 진행` 후 하면 잘 우회된다."
   ]
  },
  {
   "cell_type": "code",
   "execution_count": 34,
   "id": "936d364d",
   "metadata": {},
   "outputs": [],
   "source": [
    "import time\n",
    "\n",
    "import pyperclip\n",
    "from selenium import webdriver\n",
    "from selenium.webdriver.common.by import By\n",
    "from selenium.webdriver.common.keys import Keys\n",
    "\n",
    "\n",
    "NAVER_LOGIN_URL = \"https://nid.naver.com/nidlogin.login?mode=form&url=https://www.naver.com/\"\n",
    "\n",
    "driver =webdriver.Chrome()\n",
    "driver.get(NAVER_LOGIN_URL)\n",
    "\n",
    "# id 입력\n",
    "id_element = driver.find_element(By.CSS_SELECTOR, \"#id\")\n",
    "pyperclip.copy(ID)\n",
    "id_element.send_keys(Keys.COMMAND, 'v')\n",
    "time.sleep(1)\n",
    "\n",
    "# pw 입력\n",
    "pw_element = driver.find_element(By.CSS_SELECTOR, \"#pw\")\n",
    "pyperclip.copy(PW)\n",
    "pw_element.send_keys(Keys.COMMAND, 'v')\n",
    "time.sleep(1)\n",
    "\n",
    "# trigger login submit\n",
    "pw_element.send_keys(Keys.ENTER)\n",
    "\n"
   ]
  },
  {
   "cell_type": "markdown",
   "id": "beae8577",
   "metadata": {},
   "source": [
    "# 메일 함 이동 & 창 전환\n",
    "\n",
    "사실 그냥 메일 페이지 url을 통해서 들어가는 것이 간편하지만 창전환 연습을 위해 구현"
   ]
  },
  {
   "cell_type": "code",
   "execution_count": 35,
   "id": "ad13d411",
   "metadata": {},
   "outputs": [],
   "source": [
    "mail_button = driver.find_element(By.CSS_SELECTOR, \"#account > div.MyView-module__my_menu___eF24q > div > div > ul > li:nth-child(1) > a > span.MyView-module__item_text___VTQQM\")\n",
    "mail_button.click()\n",
    "\n",
    "time.sleep(1)\n",
    "\n",
    "link_to_mail_page = driver.find_element(By.CSS_SELECTOR, \"#account > div.MyView-module__layer_menu_service___NqMyX > div.MyView-module__service_sub___wix9p > div.MyView-module__sub_left___AIWHR > a\")\n",
    "link_to_mail_page.click()\n",
    "\n",
    "# 창 전환(메일 페이지)\n",
    "driver.switch_to.window(driver.window_handles[1])"
   ]
  },
  {
   "cell_type": "markdown",
   "id": "3acb35d9",
   "metadata": {},
   "source": [
    "# 메일 쓰기"
   ]
  },
  {
   "cell_type": "code",
   "execution_count": 36,
   "id": "a9953b26",
   "metadata": {},
   "outputs": [],
   "source": [
    "write_main_button = driver.find_element(By.CSS_SELECTOR, \"#root > div > nav > div > div.lnb_header > div.lnb_task > a.item.button_write\")\n",
    "write_main_button.click()"
   ]
  },
  {
   "cell_type": "code",
   "execution_count": 37,
   "id": "b2811846",
   "metadata": {},
   "outputs": [],
   "source": [
    "time.sleep(1)\n",
    "receiver_input = driver.find_element(By.CSS_SELECTOR, \"#recipient_input_element\")\n",
    "receiver_input.send_keys(\"rlwjd31@naver.com\")\n",
    "\n",
    "time.sleep(1)\n",
    "email_title_input = driver.find_element(By.CSS_SELECTOR, \"#subject_title\")\n",
    "email_title_input.send_keys(\"테스트 메일\")\n"
   ]
  },
  {
   "cell_type": "markdown",
   "id": "fa90344b",
   "metadata": {},
   "source": [
    "# 이메일 본문 입력란 iframe 접근\n",
    "\n",
    "iframe은 page 내부의 다른 page이기 driver의 제어권을 iframe으로 전환하고 작업이 끝나면 다시 돌아와야 한다.\n",
    "\n",
    "- default_content: iframe안에 iframe이 있다면 상위 iframe으로 돌아가는 줄 알았는데 그냥 root page로 돌아가는 것 같다."
   ]
  },
  {
   "cell_type": "code",
   "execution_count": 38,
   "id": "92b1703c",
   "metadata": {},
   "outputs": [],
   "source": [
    "email_content_iframe = driver.find_element(By.CSS_SELECTOR, \"#content > div.contents_area > div > div.editor_area > div > div.editor_body > iframe\")\n",
    "driver.switch_to.frame(email_content_iframe)\n",
    "\n",
    "content_input = driver.find_element(By.CSS_SELECTOR, \"body > div > div.workseditor-body > div.workseditor-content\")\n",
    "content_input.send_keys(\"테스트 메일 본문\")\n",
    "\n",
    "# 이메일 본문 입력란 iframe 접근 해제\n",
    "# default_\n",
    "driver.switch_to.default_content()\n",
    "\n",
    "\n"
   ]
  },
  {
   "cell_type": "markdown",
   "id": "1f1d533e",
   "metadata": {},
   "source": [
    "# 메세지 보내기\n",
    "\n",
    "`내게 쓰기`를 통해서 메일을 보내지 않고 `메일 쓰기`로 보내면 왜 휴지통에 들어가있음......? ㅜㅜ"
   ]
  },
  {
   "cell_type": "code",
   "execution_count": 39,
   "id": "3937c7c0",
   "metadata": {},
   "outputs": [],
   "source": [
    "time.sleep(1)\n",
    "send_button = driver.find_element(By.CSS_SELECTOR, \"#content > div.mail_toolbar.type_write > div:nth-child(1) > div > button.button_write_task\")\n",
    "send_button.click()"
   ]
  },
  {
   "cell_type": "code",
   "execution_count": null,
   "id": "6f74c31a",
   "metadata": {},
   "outputs": [],
   "source": []
  },
  {
   "cell_type": "markdown",
   "id": "04106b5b",
   "metadata": {},
   "source": [
    "# 전체 코드 & 리팩터링"
   ]
  },
  {
   "cell_type": "code",
   "execution_count": null,
   "id": "3d9836df",
   "metadata": {},
   "outputs": [],
   "source": [
    "from dataclasses import dataclass\n",
    "import os\n",
    "from time import sleep\n",
    "\n",
    "import pyperclip\n",
    "from selenium import webdriver\n",
    "from selenium.webdriver.common.by import By\n",
    "from selenium.webdriver.common.keys import Keys\n",
    "from dotenv import load_dotenv\n",
    "\n",
    "load_dotenv()\n",
    "\n",
    "ID = os.environ.get(\"ID\")\n",
    "PW = os.environ.get(\"PW\")\n",
    "NAVER_LOGIN_URL = \"https://nid.naver.com/nidlogin.login?mode=form&url=https://www.naver.com/\"\n",
    "\n",
    "\n",
    "driver =webdriver.Chrome()\n",
    "driver.get(NAVER_LOGIN_URL)\n",
    "\n",
    "# =========== 네이버 로그인 ===========\n",
    "# id 입력\n",
    "id_element = driver.find_element(By.CSS_SELECTOR, \"#id\")\n",
    "pyperclip.copy(ID)\n",
    "id_element.send_keys(Keys.COMMAND, 'v')\n",
    "sleep(1)\n",
    "\n",
    "# pw 입력\n",
    "pw_element = driver.find_element(By.CSS_SELECTOR, \"#pw\")\n",
    "pyperclip.copy(PW)\n",
    "pw_element.send_keys(Keys.COMMAND, 'v')\n",
    "sleep(1)\n",
    "\n",
    "# trigger login submit\n",
    "pw_element.send_keys(Keys.ENTER)\n",
    "# ============================================\n",
    "\n",
    "\n",
    "# =========== 메일함 이동 & 창 전환 ===========\n",
    "sleep(1)\n",
    "mail_button = driver.find_element(By.CSS_SELECTOR, \"#account > div.MyView-module__my_menu___eF24q > div > div > ul > li:nth-child(1) > a > span.MyView-module__item_text___VTQQM\")\n",
    "mail_button.click()\n",
    "\n",
    "sleep(1)\n",
    "\n",
    "link_to_mail_page = driver.find_element(By.CSS_SELECTOR, \"#account > div.MyView-module__layer_menu_service___NqMyX > div.MyView-module__service_sub___wix9p > div.MyView-module__sub_left___AIWHR > a\")\n",
    "link_to_mail_page.click()\n",
    "\n",
    "# 창 전환(메일 페이지)\n",
    "driver.switch_to.window(driver.window_handles[1])\n",
    "# ============================================\n",
    "\n",
    "# ================== 메일쓰기 ==================\n",
    "# 메일 쓰기 버튼 클릭\n",
    "sleep(1)\n",
    "write_main_button = driver.find_element(By.CSS_SELECTOR, \"#root > div > nav > div > div.lnb_header > div.lnb_task > a.item.button_write\")\n",
    "write_main_button.click()\n",
    "\n",
    "# 받는 사람 입력\n",
    "sleep(1)\n",
    "receiver_input = driver.find_element(By.CSS_SELECTOR, \"#recipient_input_element\")\n",
    "receiver_input.send_keys(\"rlwjd31@naver.com\")\n",
    "\n",
    "# 이메일 제목 입력\n",
    "sleep(1)\n",
    "email_title_input = driver.find_element(By.CSS_SELECTOR, \"#subject_title\")\n",
    "email_title_input.send_keys(\"테스트 메일\")\n",
    "\n",
    "# 이메일 본문 iframe 접근\n",
    "email_content_iframe = driver.find_element(By.CSS_SELECTOR, \"#content > div.contents_area > div > div.editor_area > div > div.editor_body > iframe\")\n",
    "driver.switch_to.frame(email_content_iframe)\n",
    "\n",
    "content_input = driver.find_element(By.CSS_SELECTOR, \"body > div > div.workseditor-body > div.workseditor-content\")\n",
    "content_input.send_keys(\"테스트 메일 본문\")\n",
    "\n",
    "# 이메일 본문 입력란 iframe 접근 해제\n",
    "driver.switch_to.default_content()\n",
    "# ============================================\n",
    "\n",
    "# ================== 메일쓰기 ==================\n",
    "sleep(1)\n",
    "send_button = driver.find_element(By.CSS_SELECTOR, \"#content > div.mail_toolbar.type_write > div:nth-child(1) > div > button.button_write_task\")\n",
    "send_button.click()\n",
    "# ============================================\n",
    "\n",
    "\n",
    "\n"
   ]
  },
  {
   "cell_type": "code",
   "execution_count": null,
   "id": "f5768bc0",
   "metadata": {},
   "outputs": [],
   "source": []
  },
  {
   "cell_type": "code",
   "execution_count": null,
   "id": "7d3dc2ea",
   "metadata": {},
   "outputs": [],
   "source": []
  },
  {
   "cell_type": "code",
   "execution_count": 51,
   "id": "12a598c3",
   "metadata": {},
   "outputs": [],
   "source": [
    "driver.quit()"
   ]
  },
  {
   "cell_type": "code",
   "execution_count": null,
   "id": "bae3c1af",
   "metadata": {},
   "outputs": [],
   "source": []
  },
  {
   "cell_type": "code",
   "execution_count": null,
   "id": "aeb8347c",
   "metadata": {},
   "outputs": [],
   "source": []
  },
  {
   "cell_type": "code",
   "execution_count": 16,
   "id": "1b640545",
   "metadata": {},
   "outputs": [],
   "source": [
    "driver.quit()\n",
    "\n",
    "# pip install pypeclip"
   ]
  }
 ],
 "metadata": {
  "kernelspec": {
   "display_name": "crawling",
   "language": "python",
   "name": "python3"
  },
  "language_info": {
   "codemirror_mode": {
    "name": "ipython",
    "version": 3
   },
   "file_extension": ".py",
   "mimetype": "text/x-python",
   "name": "python",
   "nbconvert_exporter": "python",
   "pygments_lexer": "ipython3",
   "version": "3.13.3"
  }
 },
 "nbformat": 4,
 "nbformat_minor": 5
}
