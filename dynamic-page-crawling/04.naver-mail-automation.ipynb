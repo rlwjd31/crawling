{
 "cells": [
  {
   "cell_type": "code",
   "execution_count": 13,
   "id": "6460ddb0",
   "metadata": {},
   "outputs": [],
   "source": [
    "import os\n",
    "\n",
    "from dotenv import load_dotenv\n",
    "\n",
    "load_dotenv()\n",
    "\n",
    "id = os.environ.get(\"ID\")\n",
    "pw = os.environ.get(\"PW\")"
   ]
  },
  {
   "cell_type": "code",
   "execution_count": null,
   "id": "936d364d",
   "metadata": {},
   "outputs": [],
   "source": [
    "import time\n",
    "\n",
    "from selenium import webdriver\n",
    "from selenium.webdriver.common.by import By\n",
    "from selenium.webdriver.common.keys import Keys\n",
    "\n",
    "\n",
    "NAVER_LOGIN_URL = \"https://nid.naver.com/nidlogin.login?mode=form&url=https://www.naver.com/\"\n",
    "\n",
    "driver =webdriver.Chrome()\n",
    "driver.get(NAVER_LOGIN_URL)\n",
    "\n",
    "id_element = driver.find_element(By.CSS_SELECTOR, \"#id\")\n",
    "id_element.send_keys(id)\n",
    "time.sleep(1)\n",
    "\n",
    "pw_element = driver.find_element(By.CSS_SELECTOR, \"#pw\")\n",
    "pw_element.send_keys(pw)\n",
    "time.sleep(1)\n",
    "pw_element.send_keys(Keys.ENTER)\n",
    "\n"
   ]
  },
  {
   "cell_type": "code",
   "execution_count": null,
   "id": "1b640545",
   "metadata": {},
   "outputs": [],
   "source": [
    "driver.quit()\n",
    "\n",
    "# pip install pypeclip"
   ]
  }
 ],
 "metadata": {
  "kernelspec": {
   "display_name": "crawling",
   "language": "python",
   "name": "python3"
  },
  "language_info": {
   "codemirror_mode": {
    "name": "ipython",
    "version": 3
   },
   "file_extension": ".py",
   "mimetype": "text/x-python",
   "name": "python",
   "nbconvert_exporter": "python",
   "pygments_lexer": "ipython3",
   "version": "3.13.3"
  }
 },
 "nbformat": 4,
 "nbformat_minor": 5
}
