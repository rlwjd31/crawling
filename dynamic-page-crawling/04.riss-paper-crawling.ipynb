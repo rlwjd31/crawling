{
 "cells": [
  {
   "cell_type": "code",
   "execution_count": null,
   "id": "579ed319",
   "metadata": {},
   "outputs": [
    {
     "data": {
      "text/plain": [
       "10"
      ]
     },
     "execution_count": 16,
     "metadata": {},
     "output_type": "execute_result"
    }
   ],
   "source": [
    "from typing import Any, Optional, TypedDict\n",
    "import requests\n",
    "from bs4 import BeautifulSoup\n",
    "from urllib.parse import urljoin, urlencode\n",
    "\n",
    "ROOT = \"https://www.riss.kr/\"\n",
    "PATH = \"search/Search.do\"\n",
    "param_dict = {\n",
    "  \"isDetailSearch\": 'N',\n",
    "  \"searchGubun\": True,\n",
    "  \"viewYn\": 'OP',\n",
    "  \"strQuery\": '엣지 디바이스',\n",
    "  \"order\": '/DESC',\n",
    "  \"onHanja\": False,\n",
    "  \"strSort\": 'RANK',\n",
    "  \"iStartCount\": 0,\n",
    "  \"fsearchMethod\": 'search',\n",
    "  \"sflag\": 1,\n",
    "  \"isFDetailSearch\":'N',\n",
    "  \"pageNumber\": 1,\n",
    "  \"icate\": 're_a_kor',\n",
    "  \"colName\": 're_a_kor',\n",
    "  \"pageScale\": 10,\n",
    "  \"isTab\": 'Y',\n",
    "  \"query\": '엣지 디바이스',\n",
    "}\n",
    "\n",
    "HeaderType = TypedDict(\"HeaderType\", {\"User-Agent\": str, \"Referer\": str})\n",
    "\n",
    "class GetSoupType(TypedDict):\n",
    "  root: Optional[str]\n",
    "  path: Optional[str]\n",
    "  url: Optional[str]\n",
    "  params: Optional[dict[Any, Any]]\n",
    "  header: Optional[HeaderType]\n",
    "\n",
    "def get_soup(params: GetSoupType):\n",
    "  root = params.get(\"root\")\n",
    "  path = params.get(\"path\")\n",
    "  url = params.get(\"url\")\n",
    "  params = params.get(\"params\") or dict()\n",
    "\n",
    "  endpoint = url if url else urljoin(root, path)\n",
    "\n",
    "  response = requests.get(endpoint, params=params)\n",
    "  soup = BeautifulSoup(response.text, \"html.parser\")\n",
    "\n",
    "  return soup\n",
    "\n",
    "# def crawl_paper_list(soup: BeautifulSoup):\n",
    "\"Referer\":  https://www.riss.kr/search/Search.do?isDetailSearch=N&searchGubun=true&viewYn=OP&queryText=&strQuery=%EC%97%A3%EC%A7%80+%EB%94%94%EB%B0%94%EC%9D%B4%EC%8A%A4&exQuery=&exQueryText=&order=%2FDESC&onHanja=false&strSort=RANK&p_year1=&p_year2=&iStartCount=0&orderBy=&mat_type=&mat_subtype=&fulltext_kind=&t_gubun=&learning_type=&ccl_code=&inside_outside=&fric_yn=&db_type=&image_yn=&gubun=&kdc=&ttsUseYn=&l_sub_code=&fsearchMethod=search&sflag=1&isFDetailSearch=N&pageNumber=1&resultKeyword=&fsearchSort=&fsearchOrder=&limiterList=&limiterListText=&facetList=&facetListText=&fsearchDB=&icate=re_a_kor&colName=re_a_kor&pageScale=10&isTab=Y&regnm=&dorg_storage=&language=&language_code=&clickKeyword=&relationKeyword=&query=%EC%97%A3%EC%A7%80+%EB%94%94%EB%B0%94%EC%9D%B4%EC%8A%A4\n",
    "\n",
    "paper_list_selector = \".srchResultListW > ul >  li\"\n",
    "\n",
    "soup = get_soup({\n",
    "  \"root\":ROOT,\n",
    "  \"path\":PATH,\n",
    "  \"params\":param_dict,\n",
    "  \"header\": {\n",
    "    \"\"\n",
    "  }\n",
    "}).select(paper_list_selector)\n",
    "len(soup)"
   ]
  },
  {
   "cell_type": "code",
   "execution_count": 18,
   "id": "ae85a60f",
   "metadata": {},
   "outputs": [
    {
     "name": "stdout",
     "output_type": "stream",
     "text": [
      "IoT엣지디바이스를 이용한 경량화 클라우드 컴퓨팅환경 구축 및 검증\n",
      "https://www.riss.kr/search/detail/DetailView.do?p_mat_type=1a0202e37d52c72d&control_no=71d192c1127301b047de9c1710b0298d&keyword=엣지 디바이스\n",
      "======== visit link =========\n"
     ]
    },
    {
     "ename": "AttributeError",
     "evalue": "'NoneType' object has no attribute 'find_next_sibling'",
     "output_type": "error",
     "traceback": [
      "\u001b[31m---------------------------------------------------------------------------\u001b[39m",
      "\u001b[31mAttributeError\u001b[39m                            Traceback (most recent call last)",
      "\u001b[36mCell\u001b[39m\u001b[36m \u001b[39m\u001b[32mIn[18]\u001b[39m\u001b[32m, line 7\u001b[39m\n\u001b[32m      5\u001b[39m \u001b[38;5;28mprint\u001b[39m(\u001b[33m\"\u001b[39m\u001b[33m======== visit link =========\u001b[39m\u001b[33m\"\u001b[39m)\n\u001b[32m      6\u001b[39m paper = get_soup({\u001b[33m\"\u001b[39m\u001b[33murl\u001b[39m\u001b[33m\"\u001b[39m: link})\n\u001b[32m----> \u001b[39m\u001b[32m7\u001b[39m press = \u001b[43mpaper\u001b[49m\u001b[43m.\u001b[49m\u001b[43mfind\u001b[49m\u001b[43m(\u001b[49m\u001b[33;43m\"\u001b[39;49m\u001b[33;43mspan\u001b[39;49m\u001b[33;43m\"\u001b[39;49m\u001b[43m,\u001b[49m\u001b[43m \u001b[49m\u001b[43mstring\u001b[49m\u001b[43m=\u001b[49m\u001b[33;43m\"\u001b[39;49m\u001b[33;43m발행기관\u001b[39;49m\u001b[33;43m\"\u001b[39;49m\u001b[43m)\u001b[49m\u001b[43m.\u001b[49m\u001b[43mfind_next_sibling\u001b[49m()\n\u001b[32m      8\u001b[39m \u001b[38;5;28mprint\u001b[39m(press)\n",
      "\u001b[31mAttributeError\u001b[39m: 'NoneType' object has no attribute 'find_next_sibling'"
     ]
    }
   ],
   "source": [
    "for paper in soup[:1]:\n",
    "  title = paper.select_one(\".title > a\").get_text(strip=True)\n",
    "  link = urljoin(ROOT, paper.select_one(\".title > a\").get(\"href\"))\n",
    "  print(title, link, sep=\"\\n\")\n",
    "  print(\"======== visit link =========\")\n",
    "  paper = get_soup({\"url\": link})\n",
    "  press = paper.find(\"span\", string=\"발행기관\").find_next_sibling()\n",
    "  print(press)"
   ]
  },
  {
   "cell_type": "code",
   "execution_count": null,
   "id": "889e00ec",
   "metadata": {},
   "outputs": [],
   "source": []
  }
 ],
 "metadata": {
  "kernelspec": {
   "display_name": "crawling",
   "language": "python",
   "name": "python3"
  },
  "language_info": {
   "codemirror_mode": {
    "name": "ipython",
    "version": 3
   },
   "file_extension": ".py",
   "mimetype": "text/x-python",
   "name": "python",
   "nbconvert_exporter": "python",
   "pygments_lexer": "ipython3",
   "version": "3.13.3"
  }
 },
 "nbformat": 4,
 "nbformat_minor": 5
}
