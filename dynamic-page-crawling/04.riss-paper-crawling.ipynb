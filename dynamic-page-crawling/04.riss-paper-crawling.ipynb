{
 "cells": [
  {
   "cell_type": "code",
   "execution_count": null,
   "id": "579ed319",
   "metadata": {},
   "outputs": [
    {
     "data": {
      "text/plain": [
       "10"
      ]
     },
     "execution_count": 2,
     "metadata": {},
     "output_type": "execute_result"
    }
   ],
   "source": [
    "from dataclasses import dataclass\n",
    "from typing import Any, Optional, TypedDict\n",
    "from urllib.parse import urljoin\n",
    "\n",
    "import requests\n",
    "from bs4 import BeautifulSoup\n",
    "\n",
    "ROOT = \"https://www.riss.kr/\"\n",
    "PATH = \"search/Search.do\"\n",
    "param_dict = {\n",
    "  \"isDetailSearch\": 'N',\n",
    "  \"searchGubun\": True,\n",
    "  \"viewYn\": 'OP',\n",
    "  \"strQuery\": '엣지 디바이스',\n",
    "  \"order\": '/DESC',\n",
    "  \"onHanja\": False,\n",
    "  \"strSort\": 'RANK',\n",
    "  \"iStartCount\": 0,\n",
    "  \"fsearchMethod\": 'search',\n",
    "  \"sflag\": 1,\n",
    "  \"isFDetailSearch\":'N',\n",
    "  \"pageNumber\": 1,\n",
    "  \"icate\": 're_a_kor',\n",
    "  \"colName\": 're_a_kor',\n",
    "  \"pageScale\": 10,\n",
    "  \"isTab\": 'Y',\n",
    "  \"query\": '엣지 디바이스',\n",
    "}\n",
    "\n",
    "\n",
    "HeaderType = TypedDict(\"HeaderType\", {\"User-Agent\": str, \"Referer\": str})\n",
    "\n",
    "\n",
    "@dataclass(frozen=True)\n",
    "class PageResponseReturnType:\n",
    "  response: requests.Response\n",
    "  soup: BeautifulSoup\n",
    "\n",
    "\n",
    "def get_page_response_with_soup(url: str, *, query_params: Optional[dict[Any, Any]] = None, header: Optional[HeaderType] = None) -> PageResponseReturnType:\n",
    "  response = requests.get(url, params=query_params, headers=header)\n",
    "  soup = BeautifulSoup(response.text, \"html.parser\")\n",
    "\n",
    "\n",
    "  return PageResponseReturnType(response=response, soup=soup)\n",
    "\n",
    "\n",
    "paper_list_response = get_page_response_with_soup(urljoin(ROOT, PATH), query_params=param_dict)\n",
    "previous_link, paper_list_soup = paper_list_response.response.url, paper_list_response.soup\n",
    "\n",
    "paper_list_selector = \".srchResultListW > ul >  li\"\n",
    "paper_list_element = paper_list_soup.select(paper_list_selector)\n",
    "len(paper_list_element)\n"
   ]
  },
  {
   "cell_type": "code",
   "execution_count": null,
   "id": "ae85a60f",
   "metadata": {},
   "outputs": [
    {
     "name": "stdout",
     "output_type": "stream",
     "text": [
      "IoT엣지디바이스를 이용한 경량화 클라우드 컴퓨팅환경 구축 및 검증\n",
      "https://www.riss.kr/search/detail/DetailView.do?p_mat_type=1a0202e37d52c72d&control_no=71d192c1127301b047de9c1710b0298d&keyword=엣지 디바이스\n",
      "======== visit link =========\n",
      "한국산업기술융합학회(구. 산업기술교육훈련학회)\n"
     ]
    }
   ],
   "source": [
    "for paper_element in paper_list_element[:1]:\n",
    "  title = paper_element.select_one(\".title > a\").get_text(strip=True)\n",
    "  link = urljoin(ROOT, paper_element.select_one(\".title > a\").get(\"href\"))\n",
    "  print(title, link, sep=\"\\n\")\n",
    "  print(\"======== visit link =========\")\n",
    "  paper_detail_response = get_page_response_with_soup(link, header={\n",
    "    \"User-Agent\": \"Mozilla/5.0\",\n",
    "    \"Referer\": previous_link\n",
    "  })\n",
    "  paper = paper_detail_response.soup\n",
    "  press = paper.find(\"span\", string=\"발행기관\").find_next_sibling()\n",
    "  print(press.text)\n",
    "  "
   ]
  },
  {
   "cell_type": "code",
   "execution_count": 5,
   "id": "889e00ec",
   "metadata": {},
   "outputs": [
    {
     "name": "stdout",
     "output_type": "stream",
     "text": [
      "False\n"
     ]
    }
   ],
   "source": [
    "s1 = \"https://www.riss.kr/search/Search.do?isDetailSearch=N&searchGubun=True&viewYn=OP&strQuery=%EC%97%A3%EC%A7%80+%EB%94%94%EB%B0%94%EC%9D%B4%EC%8A%A4&order=%2FDESC&onHanja=False&strSort=RANK&iStartCount=0&fsearchMethod=search&sflag=1&isFDetailSearch=N&pageNumber=1&icate=re_a_kor&colName=re_a_kor&pageScale=10&isTab=Y&query=%EC%97%A3%EC%A7%80+%EB%94%94%EB%B0%94%EC%9D%B4%EC%8A%A4\"\n",
    "s2 = \"https://www.riss.kr/search/Search.do?isDetailSearch=N&searchGubun=true&viewYn=OP&queryText=&strQuery=%EC%97%A3%EC%A7%80+%EB%94%94%EB%B0%94%EC%9D%B4%EC%8A%A4&exQuery=&exQueryText=&order=%2FDESC&onHanja=false&strSort=RANK&p_year1=&p_year2=&iStartCount=0&orderBy=&mat_type=&mat_subtype=&fulltext_kind=&t_gubun=&learning_type=&ccl_code=&inside_outside=&fric_yn=&db_type=&image_yn=&gubun=&kdc=&ttsUseYn=&l_sub_code=&fsearchMethod=search&sflag=1&isFDetailSearch=N&pageNumber=1&resultKeyword=&fsearchSort=&fsearchOrder=&limiterList=&limiterListText=&facetList=&facetListText=&fsearchDB=&icate=re_a_kor&colName=re_a_kor&pageScale=10&isTab=Y&regnm=&dorg_storage=&language=&language_code=&clickKeyword=&relationKeyword=&query=%EC%97%A3%EC%A7%80+%EB%94%94%EB%B0%94%EC%9D%B4%EC%8A%A4\"\n",
    "\n",
    "print(s1 == s2)"
   ]
  },
  {
   "cell_type": "code",
   "execution_count": null,
   "id": "75a48865",
   "metadata": {},
   "outputs": [
    {
     "data": {
      "text/plain": [
       "True"
      ]
     },
     "execution_count": 16,
     "metadata": {},
     "output_type": "execute_result"
    }
   ],
   "source": []
  },
  {
   "cell_type": "markdown",
   "id": "56b38044",
   "metadata": {},
   "source": [
    "# dataclass vs TypedDict\n",
    "\n",
    "- TypedDict: dictionary형태의 문법과 추론을 지원하는 타입 흰트 문법\n",
    "  - 함수형 문법: HeaderType = TypedDict(\"HeaderType\", {\"User-Agent\": str, \"Referer\": str})\n",
    "    - 이중 dictionary의 타입을 클래스형은 추론 못 하지만 함수형 문법은 추론 가능함.\n",
    "  - 클래스형 문법 :\n",
    "    class HeaderType(TypedDict):\n",
    "      User-Agent: str\n",
    "      Referer: str\n",
    "\n",
    "- dataclass\n",
    "  - 함수형 문법: @dataclass를 이용\n",
    "  - TypedDict과 다르게 HeaderType(response = ... , soup = ...) 처럼 명시적으로 타입을 지정하여 사용할 수 있음.\n",
    "  "
   ]
  }
 ],
 "metadata": {
  "kernelspec": {
   "display_name": "crawling",
   "language": "python",
   "name": "python3"
  },
  "language_info": {
   "codemirror_mode": {
    "name": "ipython",
    "version": 3
   },
   "file_extension": ".py",
   "mimetype": "text/x-python",
   "name": "python",
   "nbconvert_exporter": "python",
   "pygments_lexer": "ipython3",
   "version": "3.13.3"
  }
 },
 "nbformat": 4,
 "nbformat_minor": 5
}
