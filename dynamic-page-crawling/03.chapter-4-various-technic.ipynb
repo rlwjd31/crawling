{
 "cells": [
  {
   "cell_type": "markdown",
   "id": "43142856",
   "metadata": {},
   "source": [
    "# Chapter4: 셀레니움 실전 테크닉\n",
    "\n",
    "- 여러태그 동시 제어\n",
    "  - 여러 태그 찾기 및 클릭하기\n",
    "- 동적 대기 기법\n",
    "  - 암시적 대기\n",
    "  - 명시적 대기\n",
    "- 고급 입력 컨트롤\n",
    "  - 입력 값 삭제\n",
    "  - 순차적 키 입력\n",
    "- 셀렉트박스 조작 방법\n",
    "  - Select 클래스를 이용한 드롭다운 메뉴 선택\n",
    "- 여러 페이지 관리\n",
    "  - 페이지 안에 다른 페이지가 있는 경우(iframe 제어방법)\n",
    "  - 새로운 창 제어 방법"
   ]
  },
  {
   "cell_type": "markdown",
   "id": "f4b5f09e",
   "metadata": {},
   "source": [
    "## 여러 태그 동시 제어\n",
    "\n",
    "예제 사이트 => \"https://startcoding.pythonanywhere.com/basic\"  \n",
    "예제 사이트에서 label 즉, filter 부분을 모두 click하는 예시이다.\n",
    "\n",
    "만약 `로그인`상태에서 이렇게 클릭을 빠르게 하는 동작을 하면 문제가 발발하므로 속도를 줄이자.\n",
    "\n",
    "> 💡 label[for=\"something\"] # label tag 중 for 속성이 something인 태그 가져오기\n"
   ]
  },
  {
   "cell_type": "code",
   "execution_count": null,
   "id": "5f244afc",
   "metadata": {},
   "outputs": [],
   "source": [
    "from selenium import webdriver\n",
    "from selenium.webdriver.common.by import By\n",
    "\n",
    "url = \"https://startcoding.pythonanywhere.com/basic\"\n",
    "driver = webdriver.Chrome()\n",
    "driver.get(url)\n",
    "\n",
    "labels = driver.find_elements(By.CSS_SELECTOR, \"label[for]\")"
   ]
  },
  {
   "cell_type": "code",
   "execution_count": 7,
   "id": "694fdb63",
   "metadata": {},
   "outputs": [],
   "source": [
    "import time\n",
    "\n",
    "for label in labels: \n",
    "  label.click()\n",
    "  time.sleep(0.5)\n",
    "  "
   ]
  },
  {
   "cell_type": "code",
   "execution_count": 10,
   "id": "815ab0af",
   "metadata": {},
   "outputs": [
    {
     "name": "stdout",
     "output_type": "stream",
     "text": [
      "노트북 (10) category-1\n",
      "데스크탑 (10) category-2\n",
      "휴대폰 (10) category-3\n",
      "모니터 (5) category-4\n",
      "카메라 (128) category-5\n",
      "악세사리 (740) category-6\n",
      "SAMSUNG (578) brand-1\n",
      "LG (125) brand-2\n",
      "HP (755) brand-3\n",
      "DELL (578) brand-4\n",
      "ASUS (125) brand-5\n",
      "SONY (755) brand-6\n"
     ]
    }
   ],
   "source": [
    "for label in labels:\n",
    "  print(label.text, label.get_attribute(\"for\"))"
   ]
  },
  {
   "cell_type": "code",
   "execution_count": null,
   "id": "aa312dfe",
   "metadata": {},
   "outputs": [],
   "source": []
  }
 ],
 "metadata": {
  "kernelspec": {
   "display_name": "crawling",
   "language": "python",
   "name": "python3"
  },
  "language_info": {
   "codemirror_mode": {
    "name": "ipython",
    "version": 3
   },
   "file_extension": ".py",
   "mimetype": "text/x-python",
   "name": "python",
   "nbconvert_exporter": "python",
   "pygments_lexer": "ipython3",
   "version": "3.13.3"
  }
 },
 "nbformat": 4,
 "nbformat_minor": 5
}
