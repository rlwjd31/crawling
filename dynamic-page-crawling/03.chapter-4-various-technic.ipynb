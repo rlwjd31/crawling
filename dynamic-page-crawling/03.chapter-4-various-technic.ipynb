{
 "cells": [
  {
   "cell_type": "markdown",
   "id": "43142856",
   "metadata": {},
   "source": [
    "# Chapter4: 셀레니움 실전 테크닉\n",
    "\n",
    "- 여러태그 동시 제어\n",
    "  - 여러 태그 찾기 및 클릭하기\n",
    "- 동적 대기 기법\n",
    "  - 암시적 대기\n",
    "  - 명시적 대기\n",
    "- 고급 입력 컨트롤\n",
    "  - 입력 값 삭제\n",
    "  - 순차적 키 입력\n",
    "- 셀렉트박스 조작 방법\n",
    "  - Select 클래스를 이용한 드롭다운 메뉴 선택\n",
    "- 여러 페이지 관리\n",
    "  - 페이지 안에 다른 페이지가 있는 경우(iframe 제어방법)\n",
    "  - 새로운 창 제어 방법"
   ]
  },
  {
   "cell_type": "markdown",
   "id": "f4b5f09e",
   "metadata": {},
   "source": [
    "## 여러 태그 동시 제어\n",
    "\n",
    "예제 사이트 => \"https://startcoding.pythonanywhere.com/basic\"  \n",
    "예제 사이트에서 label 즉, filter 부분을 모두 click하는 예시이다.\n",
    "\n",
    "만약 `로그인`상태에서 이렇게 클릭을 빠르게 하는 동작을 하면 문제가 발발하므로 속도를 줄이자.\n",
    "\n",
    "> 💡 label[for=\"something\"] # label tag 중 for 속성이 something인 태그 가져오기\n"
   ]
  },
  {
   "cell_type": "code",
   "execution_count": null,
   "id": "5f244afc",
   "metadata": {},
   "outputs": [],
   "source": [
    "from selenium import webdriver\n",
    "from selenium.webdriver.common.by import By\n",
    "\n",
    "url = \"https://startcoding.pythonanywhere.com/basic\"\n",
    "driver = webdriver.Chrome()\n",
    "driver.get(url)\n",
    "\n",
    "labels = driver.find_elements(By.CSS_SELECTOR, \"label[for]\")"
   ]
  },
  {
   "cell_type": "code",
   "execution_count": 7,
   "id": "694fdb63",
   "metadata": {},
   "outputs": [],
   "source": [
    "import time\n",
    "\n",
    "for label in labels: \n",
    "  label.click()\n",
    "  time.sleep(0.5)\n",
    "  "
   ]
  },
  {
   "cell_type": "code",
   "execution_count": 10,
   "id": "815ab0af",
   "metadata": {},
   "outputs": [
    {
     "name": "stdout",
     "output_type": "stream",
     "text": [
      "노트북 (10) category-1\n",
      "데스크탑 (10) category-2\n",
      "휴대폰 (10) category-3\n",
      "모니터 (5) category-4\n",
      "카메라 (128) category-5\n",
      "악세사리 (740) category-6\n",
      "SAMSUNG (578) brand-1\n",
      "LG (125) brand-2\n",
      "HP (755) brand-3\n",
      "DELL (578) brand-4\n",
      "ASUS (125) brand-5\n",
      "SONY (755) brand-6\n"
     ]
    }
   ],
   "source": [
    "for label in labels:\n",
    "  print(label.text, label.get_attribute(\"for\"))"
   ]
  },
  {
   "cell_type": "markdown",
   "id": "aa312dfe",
   "metadata": {},
   "source": [
    "## 동적 대기 기법\n",
    "\n",
    "웹 페이지의 태그가 `즉시 로드가 되지 않고 어떤 동작이나 시간이 지난 후에 나타는 경우`, 예를 들면 javascript에 의해 동적으로 추가되\n",
    "\n",
    "이러한 경우를 처리하기 위해 `selenium`에서는 두 가지 대기 기법(암시적 대기, 명시적 대기)을 제공한다.\n",
    "\n",
    "### 암시적 대기(Implicit Wait)\n",
    "암시적 대기는 `설정한 시간`동안 요소를 대기하는 방법이다.  \n",
    "- `설정한 시간 안에 찾을 시`: 다음 코드 진행\n",
    "- `설정한 시간 안에 못 찾을 시`: `NoSuchElementException` 예외 발생\n",
    "\n",
    "\n",
    "> 💡 암시적 대기는 `웹 드라이버 객체에 대해 한 번 설정하면, 객체가 살아있는 동안 계속 유효`하다.\n",
    "> 또한, 매우 중요한 부분인데 `요소를 찾는 행위`에만 기다린다. 즉 암시적 대기의 적용 범위는 `탐색(find)`에만 적용되며 `클릭,입력, 가시성 등`에는 적용되는 범주가 아니다.  \n",
    "> 따라서, 위에서 말한 `객체가 살아있는 동안 계속 유효`함은 `이후 모든 요소를 탐색하는 코드`에 대해서 전역적으로 적용된다는 의미이다.\n",
    "\n",
    "```python\n",
    "driver = webdriver.Chrome()\n",
    "driver.implicitly_wait(10) # 10초 동안 대기\n",
    "```\n",
    "\n",
    "### 명시적 대기(Explicit Wait)\n",
    "\n",
    "특정 시간 동안 기다리는 것은 암묵적 대기와 같지만 `특정 조건이 만족할 때까지 대기`하는 기법이다. `WebDriverWait`과 `expected_conditions`를 이용하여 조건을 확인하고 대기할 수 있다.  \n",
    "\n",
    "조건 예시\n",
    "1. 특정 태그가 나타났을 때\n",
    "2. 태그가 클릭 가능해질 때\n",
    "\n",
    "조건 부분만 암시적 대기와 차이가 나며 시간 안에 조건이 만족하지 않으면 예외가 발생한다.\n",
    "- `설정한 시간 안에 조건이 만족될 시`: 다음 코드 진행\n",
    "- `설정한 시간 안에 조건이 만족되지 않을 시`: `TimeoutException` 예외 발생\n",
    "\n",
    "\n",
    "```python\n",
    "from selenium.webdriver.support.ui import WebDriverWait\n",
    "from selenium.webdriver.support import expected_conditions as EC\n",
    "\n",
    "driver = webdriver.Chrome()\n",
    "driver.get(\"https://www.naver.com\")\n",
    "\n",
    "# 최대 10초 동안 대기\n",
    "# #query1인 태그가 나타날 때까지 대기하며 이 때 `display:none`과 상관없이 나타나기만 하면 조건이 True가 된다.\n",
    "element = WebDriverWait(driver, 10).until(\n",
    "  EC.presence_of_element_located((By.CSS_SELECTOR, \"#query1\"))\n",
    ")\n",
    "```\n",
    "\n",
    "### 명시적 대기 VS 암시적 대기\n",
    "- 범위\n",
    "  - 암시적 대기: 웹 드라이버 `객체 전체`에 대해 설정, 모든 태그를 찾을 때 적용\n",
    "  - 명시적 대기: `특정 태그나 조건`에 대해 설정된다.\n",
    "- 유연성\n",
    "  - 암시적 대기: 그냥 기다리는 것만 함.\n",
    "  - 명시적 대기: 다양한 조건(clickable, visible, presence)등에 대해 대기할 수 있어 더욱 유연하다.\n",
    "- 예외처리방식\n",
    "  - 암시적 대기: `NoSuchElementException` 예외 발생\n",
    "  - 명시적 대기: `TimeoutException` 예외 발생\n",
    "\n",
    "\n"
   ]
  },
  {
   "cell_type": "markdown",
   "id": "f65d6df8",
   "metadata": {},
   "source": [
    "### 암시적 대기 예시"
   ]
  },
  {
   "cell_type": "code",
   "execution_count": null,
   "id": "072f06c9",
   "metadata": {},
   "outputs": [],
   "source": [
    "from selenium import webdriver\n",
    "from selenium.webdriver.common.by import By\n",
    "from selenium.webdriver.common.keys import Keys\n",
    "\n",
    "driver = webdriver.Chrome()\n",
    "\n",
    "driver.get(\"https://www.naver.com\")\n",
    "\n"
   ]
  },
  {
   "cell_type": "markdown",
   "id": "7bda5721",
   "metadata": {},
   "source": [
    "찾는 요소가 있을 때 -> 바로 대기 취소"
   ]
  },
  {
   "cell_type": "code",
   "execution_count": null,
   "id": "229744ba",
   "metadata": {},
   "outputs": [],
   "source": [
    "driver.implicitly_wait(5)\n",
    "search = driver.find_element(By.CSS_SELECTOR, \"#query\")"
   ]
  },
  {
   "cell_type": "markdown",
   "id": "9f3ecac7",
   "metadata": {},
   "source": [
    "찾는 요소가 없을 때 -> 기다렸다가 예외 발생"
   ]
  },
  {
   "cell_type": "code",
   "execution_count": 27,
   "id": "a588eae5",
   "metadata": {},
   "outputs": [
    {
     "ename": "NoSuchElementException",
     "evalue": "Message: no such element: Unable to locate element: {\"method\":\"css selector\",\"selector\":\"#query1\"}\n  (Session info: chrome=141.0.7390.123); For documentation on this error, please visit: https://www.selenium.dev/documentation/webdriver/troubleshooting/errors#nosuchelementexception\nStacktrace:\n0   chromedriver                        0x0000000100677cf8 cxxbridge1$str$ptr + 2895872\n1   chromedriver                        0x000000010066fc34 cxxbridge1$str$ptr + 2862908\n2   chromedriver                        0x0000000100195570 _RNvCs47EqcsrPRmA_7___rustc35___rust_no_alloc_shim_is_unstable_v2 + 74324\n3   chromedriver                        0x00000001001dcf34 _RNvCs47EqcsrPRmA_7___rustc35___rust_no_alloc_shim_is_unstable_v2 + 367640\n4   chromedriver                        0x000000010021e3d8 _RNvCs47EqcsrPRmA_7___rustc35___rust_no_alloc_shim_is_unstable_v2 + 635068\n5   chromedriver                        0x00000001001d10f8 _RNvCs47EqcsrPRmA_7___rustc35___rust_no_alloc_shim_is_unstable_v2 + 318940\n6   chromedriver                        0x000000010063b81c cxxbridge1$str$ptr + 2648868\n7   chromedriver                        0x000000010063edf8 cxxbridge1$str$ptr + 2662656\n8   chromedriver                        0x000000010061c334 cxxbridge1$str$ptr + 2520636\n9   chromedriver                        0x000000010063f6e0 cxxbridge1$str$ptr + 2664936\n10  chromedriver                        0x000000010060da80 cxxbridge1$str$ptr + 2461064\n11  chromedriver                        0x000000010065f014 cxxbridge1$str$ptr + 2794268\n12  chromedriver                        0x000000010065f198 cxxbridge1$str$ptr + 2794656\n13  chromedriver                        0x000000010066f880 cxxbridge1$str$ptr + 2861960\n14  libsystem_pthread.dylib             0x00000001990f4c08 _pthread_start + 136\n15  libsystem_pthread.dylib             0x00000001990efba8 thread_start + 8\n",
     "output_type": "error",
     "traceback": [
      "\u001b[31m---------------------------------------------------------------------------\u001b[39m",
      "\u001b[31mNoSuchElementException\u001b[39m                    Traceback (most recent call last)",
      "\u001b[36mCell\u001b[39m\u001b[36m \u001b[39m\u001b[32mIn[27]\u001b[39m\u001b[32m, line 2\u001b[39m\n\u001b[32m      1\u001b[39m driver.implicitly_wait(\u001b[32m5\u001b[39m)\n\u001b[32m----> \u001b[39m\u001b[32m2\u001b[39m search = \u001b[43mdriver\u001b[49m\u001b[43m.\u001b[49m\u001b[43mfind_element\u001b[49m\u001b[43m(\u001b[49m\u001b[43mBy\u001b[49m\u001b[43m.\u001b[49m\u001b[43mCSS_SELECTOR\u001b[49m\u001b[43m,\u001b[49m\u001b[43m \u001b[49m\u001b[33;43m\"\u001b[39;49m\u001b[33;43m#query1\u001b[39;49m\u001b[33;43m\"\u001b[39;49m\u001b[43m)\u001b[49m\n",
      "\u001b[36mFile \u001b[39m\u001b[32m~/.pyenv/versions/3.13.3/envs/crawling/lib/python3.13/site-packages/selenium/webdriver/remote/webdriver.py:926\u001b[39m, in \u001b[36mWebDriver.find_element\u001b[39m\u001b[34m(self, by, value)\u001b[39m\n\u001b[32m    923\u001b[39m         \u001b[38;5;28;01mraise\u001b[39;00m NoSuchElementException(\u001b[33mf\u001b[39m\u001b[33m\"\u001b[39m\u001b[33mCannot locate relative element with: \u001b[39m\u001b[38;5;132;01m{\u001b[39;00mby.root\u001b[38;5;132;01m}\u001b[39;00m\u001b[33m\"\u001b[39m)\n\u001b[32m    924\u001b[39m     \u001b[38;5;28;01mreturn\u001b[39;00m elements[\u001b[32m0\u001b[39m]\n\u001b[32m--> \u001b[39m\u001b[32m926\u001b[39m \u001b[38;5;28;01mreturn\u001b[39;00m \u001b[38;5;28;43mself\u001b[39;49m\u001b[43m.\u001b[49m\u001b[43mexecute\u001b[49m\u001b[43m(\u001b[49m\u001b[43mCommand\u001b[49m\u001b[43m.\u001b[49m\u001b[43mFIND_ELEMENT\u001b[49m\u001b[43m,\u001b[49m\u001b[43m \u001b[49m\u001b[43m{\u001b[49m\u001b[33;43m\"\u001b[39;49m\u001b[33;43musing\u001b[39;49m\u001b[33;43m\"\u001b[39;49m\u001b[43m:\u001b[49m\u001b[43m \u001b[49m\u001b[43mby\u001b[49m\u001b[43m,\u001b[49m\u001b[43m \u001b[49m\u001b[33;43m\"\u001b[39;49m\u001b[33;43mvalue\u001b[39;49m\u001b[33;43m\"\u001b[39;49m\u001b[43m:\u001b[49m\u001b[43m \u001b[49m\u001b[43mvalue\u001b[49m\u001b[43m}\u001b[49m\u001b[43m)\u001b[49m[\u001b[33m\"\u001b[39m\u001b[33mvalue\u001b[39m\u001b[33m\"\u001b[39m]\n",
      "\u001b[36mFile \u001b[39m\u001b[32m~/.pyenv/versions/3.13.3/envs/crawling/lib/python3.13/site-packages/selenium/webdriver/remote/webdriver.py:458\u001b[39m, in \u001b[36mWebDriver.execute\u001b[39m\u001b[34m(self, driver_command, params)\u001b[39m\n\u001b[32m    455\u001b[39m response = cast(RemoteConnection, \u001b[38;5;28mself\u001b[39m.command_executor).execute(driver_command, params)\n\u001b[32m    457\u001b[39m \u001b[38;5;28;01mif\u001b[39;00m response:\n\u001b[32m--> \u001b[39m\u001b[32m458\u001b[39m     \u001b[38;5;28;43mself\u001b[39;49m\u001b[43m.\u001b[49m\u001b[43merror_handler\u001b[49m\u001b[43m.\u001b[49m\u001b[43mcheck_response\u001b[49m\u001b[43m(\u001b[49m\u001b[43mresponse\u001b[49m\u001b[43m)\u001b[49m\n\u001b[32m    459\u001b[39m     response[\u001b[33m\"\u001b[39m\u001b[33mvalue\u001b[39m\u001b[33m\"\u001b[39m] = \u001b[38;5;28mself\u001b[39m._unwrap_value(response.get(\u001b[33m\"\u001b[39m\u001b[33mvalue\u001b[39m\u001b[33m\"\u001b[39m, \u001b[38;5;28;01mNone\u001b[39;00m))\n\u001b[32m    460\u001b[39m     \u001b[38;5;28;01mreturn\u001b[39;00m response\n",
      "\u001b[36mFile \u001b[39m\u001b[32m~/.pyenv/versions/3.13.3/envs/crawling/lib/python3.13/site-packages/selenium/webdriver/remote/errorhandler.py:233\u001b[39m, in \u001b[36mErrorHandler.check_response\u001b[39m\u001b[34m(self, response)\u001b[39m\n\u001b[32m    231\u001b[39m         alert_text = value[\u001b[33m\"\u001b[39m\u001b[33malert\u001b[39m\u001b[33m\"\u001b[39m].get(\u001b[33m\"\u001b[39m\u001b[33mtext\u001b[39m\u001b[33m\"\u001b[39m)\n\u001b[32m    232\u001b[39m     \u001b[38;5;28;01mraise\u001b[39;00m exception_class(message, screen, stacktrace, alert_text)  \u001b[38;5;66;03m# type: ignore[call-arg]  # mypy is not smart enough here\u001b[39;00m\n\u001b[32m--> \u001b[39m\u001b[32m233\u001b[39m \u001b[38;5;28;01mraise\u001b[39;00m exception_class(message, screen, stacktrace)\n",
      "\u001b[31mNoSuchElementException\u001b[39m: Message: no such element: Unable to locate element: {\"method\":\"css selector\",\"selector\":\"#query1\"}\n  (Session info: chrome=141.0.7390.123); For documentation on this error, please visit: https://www.selenium.dev/documentation/webdriver/troubleshooting/errors#nosuchelementexception\nStacktrace:\n0   chromedriver                        0x0000000100677cf8 cxxbridge1$str$ptr + 2895872\n1   chromedriver                        0x000000010066fc34 cxxbridge1$str$ptr + 2862908\n2   chromedriver                        0x0000000100195570 _RNvCs47EqcsrPRmA_7___rustc35___rust_no_alloc_shim_is_unstable_v2 + 74324\n3   chromedriver                        0x00000001001dcf34 _RNvCs47EqcsrPRmA_7___rustc35___rust_no_alloc_shim_is_unstable_v2 + 367640\n4   chromedriver                        0x000000010021e3d8 _RNvCs47EqcsrPRmA_7___rustc35___rust_no_alloc_shim_is_unstable_v2 + 635068\n5   chromedriver                        0x00000001001d10f8 _RNvCs47EqcsrPRmA_7___rustc35___rust_no_alloc_shim_is_unstable_v2 + 318940\n6   chromedriver                        0x000000010063b81c cxxbridge1$str$ptr + 2648868\n7   chromedriver                        0x000000010063edf8 cxxbridge1$str$ptr + 2662656\n8   chromedriver                        0x000000010061c334 cxxbridge1$str$ptr + 2520636\n9   chromedriver                        0x000000010063f6e0 cxxbridge1$str$ptr + 2664936\n10  chromedriver                        0x000000010060da80 cxxbridge1$str$ptr + 2461064\n11  chromedriver                        0x000000010065f014 cxxbridge1$str$ptr + 2794268\n12  chromedriver                        0x000000010065f198 cxxbridge1$str$ptr + 2794656\n13  chromedriver                        0x000000010066f880 cxxbridge1$str$ptr + 2861960\n14  libsystem_pthread.dylib             0x00000001990f4c08 _pthread_start + 136\n15  libsystem_pthread.dylib             0x00000001990efba8 thread_start + 8\n"
     ]
    }
   ],
   "source": [
    "driver.implicitly_wait(5)\n",
    "search = driver.find_element(By.CSS_SELECTOR, \"#query1\")"
   ]
  },
  {
   "cell_type": "markdown",
   "id": "68816fc1",
   "metadata": {},
   "source": [
    "### 명시적 대기 예시"
   ]
  },
  {
   "cell_type": "code",
   "execution_count": 32,
   "id": "38b510d1",
   "metadata": {},
   "outputs": [],
   "source": [
    "from selenium import webdriver\n",
    "from selenium.webdriver.common.by import By\n",
    "from selenium.webdriver.common.keys import Keys\n",
    "\n",
    "driver = webdriver.Chrome()\n",
    "\n",
    "driver.get(\"https://www.naver.com\")\n"
   ]
  },
  {
   "cell_type": "markdown",
   "id": "04e3fe4e",
   "metadata": {},
   "source": [
    "정해진 시간 안에 조건을 만족할 때"
   ]
  },
  {
   "cell_type": "code",
   "execution_count": 33,
   "id": "3d192e99",
   "metadata": {},
   "outputs": [],
   "source": [
    "from selenium.webdriver.support.ui import WebDriverWait\n",
    "from selenium.webdriver.support import expected_conditions as EC\n",
    "\n",
    "search = WebDriverWait(driver, 10).until(\n",
    "  EC.presence_of_element_located((By.CSS_SELECTOR, \"#query\"))\n",
    ")\n",
    "search.send_keys(\"셀레니움\")"
   ]
  },
  {
   "cell_type": "markdown",
   "id": "42b9bef0",
   "metadata": {},
   "source": [
    "정해진 시간 안에 조건을 만족하지 않을 때"
   ]
  },
  {
   "cell_type": "code",
   "execution_count": 34,
   "id": "1277d7d9",
   "metadata": {},
   "outputs": [
    {
     "ename": "TimeoutException",
     "evalue": "Message: \nStacktrace:\n0   chromedriver                        0x000000010133fcf8 cxxbridge1$str$ptr + 2895872\n1   chromedriver                        0x0000000101337c34 cxxbridge1$str$ptr + 2862908\n2   chromedriver                        0x0000000100e5d570 _RNvCs47EqcsrPRmA_7___rustc35___rust_no_alloc_shim_is_unstable_v2 + 74324\n3   chromedriver                        0x0000000100ea4f34 _RNvCs47EqcsrPRmA_7___rustc35___rust_no_alloc_shim_is_unstable_v2 + 367640\n4   chromedriver                        0x0000000100ee63d8 _RNvCs47EqcsrPRmA_7___rustc35___rust_no_alloc_shim_is_unstable_v2 + 635068\n5   chromedriver                        0x0000000100e990f8 _RNvCs47EqcsrPRmA_7___rustc35___rust_no_alloc_shim_is_unstable_v2 + 318940\n6   chromedriver                        0x000000010130381c cxxbridge1$str$ptr + 2648868\n7   chromedriver                        0x0000000101306df8 cxxbridge1$str$ptr + 2662656\n8   chromedriver                        0x00000001012e4334 cxxbridge1$str$ptr + 2520636\n9   chromedriver                        0x00000001013076e0 cxxbridge1$str$ptr + 2664936\n10  chromedriver                        0x00000001012d5a80 cxxbridge1$str$ptr + 2461064\n11  chromedriver                        0x0000000101327014 cxxbridge1$str$ptr + 2794268\n12  chromedriver                        0x0000000101327198 cxxbridge1$str$ptr + 2794656\n13  chromedriver                        0x0000000101337880 cxxbridge1$str$ptr + 2861960\n14  libsystem_pthread.dylib             0x00000001990f4c08 _pthread_start + 136\n15  libsystem_pthread.dylib             0x00000001990efba8 thread_start + 8\n",
     "output_type": "error",
     "traceback": [
      "\u001b[31m---------------------------------------------------------------------------\u001b[39m",
      "\u001b[31mTimeoutException\u001b[39m                          Traceback (most recent call last)",
      "\u001b[36mCell\u001b[39m\u001b[36m \u001b[39m\u001b[32mIn[34]\u001b[39m\u001b[32m, line 1\u001b[39m\n\u001b[32m----> \u001b[39m\u001b[32m1\u001b[39m search = \u001b[43mWebDriverWait\u001b[49m\u001b[43m(\u001b[49m\u001b[43mdriver\u001b[49m\u001b[43m,\u001b[49m\u001b[43m \u001b[49m\u001b[32;43m3\u001b[39;49m\u001b[43m)\u001b[49m\u001b[43m.\u001b[49m\u001b[43muntil\u001b[49m\u001b[43m(\u001b[49m\n\u001b[32m      2\u001b[39m \u001b[43m  \u001b[49m\u001b[43mEC\u001b[49m\u001b[43m.\u001b[49m\u001b[43mpresence_of_element_located\u001b[49m\u001b[43m(\u001b[49m\u001b[43m(\u001b[49m\u001b[43mBy\u001b[49m\u001b[43m.\u001b[49m\u001b[43mCSS_SELECTOR\u001b[49m\u001b[43m,\u001b[49m\u001b[43m \u001b[49m\u001b[33;43m\"\u001b[39;49m\u001b[33;43m#query1\u001b[39;49m\u001b[33;43m\"\u001b[39;49m\u001b[43m)\u001b[49m\u001b[43m)\u001b[49m\u001b[43m \u001b[49m\u001b[38;5;66;43;03m# 👉🏻 없는 id\u001b[39;49;00m\n\u001b[32m      3\u001b[39m \u001b[43m)\u001b[49m\n\u001b[32m      4\u001b[39m search.send_keys(\u001b[33m\"\u001b[39m\u001b[33m셀레니움\u001b[39m\u001b[33m\"\u001b[39m)\n",
      "\u001b[36mFile \u001b[39m\u001b[32m~/.pyenv/versions/3.13.3/envs/crawling/lib/python3.13/site-packages/selenium/webdriver/support/wait.py:138\u001b[39m, in \u001b[36mWebDriverWait.until\u001b[39m\u001b[34m(self, method, message)\u001b[39m\n\u001b[32m    136\u001b[39m         \u001b[38;5;28;01mbreak\u001b[39;00m\n\u001b[32m    137\u001b[39m     time.sleep(\u001b[38;5;28mself\u001b[39m._poll)\n\u001b[32m--> \u001b[39m\u001b[32m138\u001b[39m \u001b[38;5;28;01mraise\u001b[39;00m TimeoutException(message, screen, stacktrace)\n",
      "\u001b[31mTimeoutException\u001b[39m: Message: \nStacktrace:\n0   chromedriver                        0x000000010133fcf8 cxxbridge1$str$ptr + 2895872\n1   chromedriver                        0x0000000101337c34 cxxbridge1$str$ptr + 2862908\n2   chromedriver                        0x0000000100e5d570 _RNvCs47EqcsrPRmA_7___rustc35___rust_no_alloc_shim_is_unstable_v2 + 74324\n3   chromedriver                        0x0000000100ea4f34 _RNvCs47EqcsrPRmA_7___rustc35___rust_no_alloc_shim_is_unstable_v2 + 367640\n4   chromedriver                        0x0000000100ee63d8 _RNvCs47EqcsrPRmA_7___rustc35___rust_no_alloc_shim_is_unstable_v2 + 635068\n5   chromedriver                        0x0000000100e990f8 _RNvCs47EqcsrPRmA_7___rustc35___rust_no_alloc_shim_is_unstable_v2 + 318940\n6   chromedriver                        0x000000010130381c cxxbridge1$str$ptr + 2648868\n7   chromedriver                        0x0000000101306df8 cxxbridge1$str$ptr + 2662656\n8   chromedriver                        0x00000001012e4334 cxxbridge1$str$ptr + 2520636\n9   chromedriver                        0x00000001013076e0 cxxbridge1$str$ptr + 2664936\n10  chromedriver                        0x00000001012d5a80 cxxbridge1$str$ptr + 2461064\n11  chromedriver                        0x0000000101327014 cxxbridge1$str$ptr + 2794268\n12  chromedriver                        0x0000000101327198 cxxbridge1$str$ptr + 2794656\n13  chromedriver                        0x0000000101337880 cxxbridge1$str$ptr + 2861960\n14  libsystem_pthread.dylib             0x00000001990f4c08 _pthread_start + 136\n15  libsystem_pthread.dylib             0x00000001990efba8 thread_start + 8\n"
     ]
    }
   ],
   "source": [
    "search = WebDriverWait(driver, 3).until(\n",
    "  EC.presence_of_element_located((By.CSS_SELECTOR, \"#query1\")) # 👉🏻 없는 id\n",
    ")\n",
    "search.send_keys(\"셀레니움\")"
   ]
  },
  {
   "cell_type": "code",
   "execution_count": 35,
   "id": "22e5f944",
   "metadata": {},
   "outputs": [],
   "source": [
    "driver.quit()"
   ]
  },
  {
   "cell_type": "markdown",
   "id": "ea99ee4f",
   "metadata": {},
   "source": [
    "## 고급 입력 컨트롤\n",
    "\n",
    "1. 텍스트 초기화: `clear()`를 통해 수행하며 텍스트를 입력할 수 있는 요소의 text를 지워주는 method. 만약 `div, span` 등의 태그에 clear()를 호출하면 `InvalidElementStateException` 예외 발생\n",
    "```python\n",
    "driver.get(\"https://www.naver.com\")\n",
    "search = driver.find_element(By.CSS_SELECTOR, \"#query\")\n",
    "search.send_keys(\"셀레니움\")\n",
    "search.clear()\n",
    "```\n",
    "\n",
    "2. 순차적 키 입력: `send_keys()`를 통해 수행하며 여러 키를 순차적으로 입력할 수 있는 method. \n",
    "```python\n",
    "# \"셀레니움\"을 입력하고 \"Enter\"키를 누름\n",
    "input_element.send_keys(\"셀레니움\". Keys.ENTER)\n",
    "\n",
    "# 복사, 붙여넣기 -> 이 때 키가 동시에 눌렸다가 떼어지는 event가 바로 발생하는 동작처럼 동작함.\n",
    "input_element.send_keys(Keys.CONTROL, \"a\")\n",
    "input_element.send_keys(Keys.CONTROL, \"c\")\n",
    "```\n"
   ]
  },
  {
   "cell_type": "markdown",
   "id": "64591eac",
   "metadata": {},
   "source": [
    "### clear 예시"
   ]
  },
  {
   "cell_type": "code",
   "execution_count": null,
   "id": "ed5795df",
   "metadata": {},
   "outputs": [],
   "source": [
    "import time\n",
    "\n",
    "from selenium import webdriver\n",
    "\n",
    "\n",
    "driver = webdriver.Chrome()\n",
    "driver.get(\"https://www.naver.com\")\n",
    "search = driver.find_element(By.CSS_SELECTOR, \"#query\")\n",
    "search.send_keys(\"셀레니움\")\n",
    "\n",
    "# 빨라서 그냥 3초 대기 후 초기화\n",
    "time.sleep(3)\n",
    "\n",
    "search.clear()\n"
   ]
  },
  {
   "cell_type": "markdown",
   "id": "02965bbf",
   "metadata": {},
   "source": [
    "### 순차적 입력"
   ]
  },
  {
   "cell_type": "code",
   "execution_count": null,
   "id": "392c25ee",
   "metadata": {},
   "outputs": [],
   "source": [
    "from selenium import webdriver\n",
    "from selenium.webdriver.common.keys import Keys\n",
    "import time\n",
    "\n",
    "driver = webdriver.Chrome()\n",
    "driver.get(\"https://www.naver.com\")\n",
    "search = driver.find_element(By.CSS_SELECTOR, \"#query\")\n",
    "\n",
    "# 셀레니움 입력 후 enter 즉, 검색\n",
    "search.send_keys(\"셀레니움\", Keys.ENTER)\n",
    "\n"
   ]
  },
  {
   "cell_type": "code",
   "execution_count": 70,
   "id": "e4546449",
   "metadata": {},
   "outputs": [],
   "source": [
    "driver.quit()"
   ]
  },
  {
   "cell_type": "code",
   "execution_count": null,
   "id": "b19b7124",
   "metadata": {},
   "outputs": [],
   "source": []
  }
 ],
 "metadata": {
  "kernelspec": {
   "display_name": "crawling",
   "language": "python",
   "name": "python3"
  },
  "language_info": {
   "codemirror_mode": {
    "name": "ipython",
    "version": 3
   },
   "file_extension": ".py",
   "mimetype": "text/x-python",
   "name": "python",
   "nbconvert_exporter": "python",
   "pygments_lexer": "ipython3",
   "version": "3.13.3"
  }
 },
 "nbformat": 4,
 "nbformat_minor": 5
}
