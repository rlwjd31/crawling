{
 "cells": [
  {
   "cell_type": "markdown",
   "id": "d61a444e",
   "metadata": {},
   "source": [
    "# Chapter3: 원하는 태그 찾고 제어하기\n",
    "- CSS 선택자로 태그 찾기\n",
    "- 태그 클릭하기\n",
    "- 텍스트 입력하기\n",
    "- 키보드 키 입력하기\n",
    "- 셀레니움 기본 템플릿 정리"
   ]
  },
  {
   "cell_type": "markdown",
   "id": "69cd9b90",
   "metadata": {},
   "source": [
    "## CSS 선택자로 태그 찾기\n",
    "\n",
    "- `By 클래스`: 웹에서 `태그를 찾을 때`사용하는 다양항 방법(e.g. css selector, 클래스 이름, ID, Xpath)을 제공하는 클래스이다.\n",
    "- `driver.find_element()`: 웹 페이지에서 `첫 번째로 일치하는 태그를 반환`하는 메서드로 없는 태그일 시 `NoSuchElementException` 오류가 발생.\n",
    "- javascript를 사용하여 동적으로 태그가 생성되는 페이지에서는 `태그가 로드 될 때까지 대기한 후`찾아야할 수도 있다.\n",
    "- 반환되는 데이터는 `WebElement` 객체로 이 객체를 통해 `클릭, 입력, 데이터 추출 등의 작업이 가능`하다."
   ]
  },
  {
   "cell_type": "code",
   "execution_count": null,
   "id": "4fce687a",
   "metadata": {},
   "outputs": [],
   "source": [
    "# naver search input 태그 찾기\n",
    "from selenium import webdriver\n",
    "\n",
    "driver = webdriver.Chrome()\n",
    "\n",
    "driver.get(\"https://www.naver.com\")"
   ]
  },
  {
   "cell_type": "markdown",
   "id": "56c20f47",
   "metadata": {},
   "source": [
    "## 태그 클릭하기"
   ]
  },
  {
   "cell_type": "code",
   "execution_count": 8,
   "id": "a0f6b5cd",
   "metadata": {},
   "outputs": [],
   "source": [
    "from selenium.webdriver.common.by import By\n",
    "\n",
    "naver_weather_button_selector = driver.find_element(By.CSS_SELECTOR, \".DailyBoardView-module__header_title___Uk3ix\")\n",
    "naver_weather_button_selector\n",
    "\n",
    "naver_weather_button_selector.click()"
   ]
  },
  {
   "cell_type": "markdown",
   "id": "9131aca9",
   "metadata": {},
   "source": [
    "## 텍스 입력하기\n",
    "\n",
    "`WebElement.send_keys()` 메서드를 통해 값을 입력할 수 있다."
   ]
  },
  {
   "cell_type": "code",
   "execution_count": 11,
   "id": "87ca7988",
   "metadata": {},
   "outputs": [],
   "source": [
    "from selenium.webdriver.common.by import By\n",
    "\n",
    "naver_search_input = driver.find_element(By.ID, \"query\")\n",
    "\n",
    "# input에 입력하기 위해 click\n",
    "naver_search_input.click()"
   ]
  },
  {
   "cell_type": "code",
   "execution_count": 12,
   "id": "44cdc623",
   "metadata": {},
   "outputs": [],
   "source": [
    "# click을 해서 focus상태이니 값을 입력\n",
    "naver_search_input.send_keys(\"오늘 날씨\")"
   ]
  },
  {
   "cell_type": "markdown",
   "id": "106e2528",
   "metadata": {},
   "source": [
    "## 키보드 키 입력하기\n",
    "\n",
    "`WebElement.send_keys()` 메서드를 이용하지만 `selenium에서 제공하는 Keys`를 활용한다.\n"
   ]
  },
  {
   "cell_type": "code",
   "execution_count": 13,
   "id": "aa7109fd",
   "metadata": {},
   "outputs": [],
   "source": [
    "from selenium.webdriver.common.by import By\n",
    "from selenium.webdriver.common.keys import Keys\n",
    "\n",
    "naver_search_input = driver.find_element(By.ID, \"query\")\n",
    "\n",
    "# input에 입력하기 위해 click\n",
    "naver_search_input.click()\n",
    "\n",
    "# input에 값 입력\n",
    "naver_search_input.send_keys(\"오늘 날씨\")\n",
    "\n",
    "# trigger 엔터\n",
    "naver_search_input.send_keys(Keys.ENTER)"
   ]
  },
  {
   "cell_type": "markdown",
   "id": "d2827770",
   "metadata": {},
   "source": [
    "## naver에서 검색 자동화 예시"
   ]
  },
  {
   "cell_type": "code",
   "execution_count": 15,
   "id": "576995fb",
   "metadata": {},
   "outputs": [],
   "source": [
    "\n",
    "from selenium import webdriver\n",
    "from selenium.webdriver.common.by import By\n",
    "from selenium.webdriver.common.keys import Keys\n",
    "\n",
    "driver = webdriver.Chrome()\n",
    "driver.get(\"https://www.naver.com\")\n",
    "\n",
    "naver_search_input = driver.find_element(By.ID, \"query\")\n",
    "\n",
    "# input에 입력하기 위해 click\n",
    "naver_search_input.click()\n",
    "\n",
    "# input에 값 입력\n",
    "naver_search_input.send_keys(\"오늘 날씨\")\n",
    "\n",
    "# trigger 엔터\n",
    "naver_search_input.send_keys(Keys.ENTER)"
   ]
  },
  {
   "cell_type": "code",
   "execution_count": 14,
   "id": "b105df51",
   "metadata": {},
   "outputs": [],
   "source": [
    "driver.quit()"
   ]
  },
  {
   "cell_type": "code",
   "execution_count": null,
   "id": "31638704",
   "metadata": {},
   "outputs": [],
   "source": []
  }
 ],
 "metadata": {
  "kernelspec": {
   "display_name": "crawling",
   "language": "python",
   "name": "python3"
  },
  "language_info": {
   "codemirror_mode": {
    "name": "ipython",
    "version": 3
   },
   "file_extension": ".py",
   "mimetype": "text/x-python",
   "name": "python",
   "nbconvert_exporter": "python",
   "pygments_lexer": "ipython3",
   "version": "3.13.3"
  }
 },
 "nbformat": 4,
 "nbformat_minor": 5
}
