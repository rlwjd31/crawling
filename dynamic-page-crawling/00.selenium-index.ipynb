{
 "cells": [
  {
   "cell_type": "markdown",
   "id": "e106a2bb",
   "metadata": {},
   "source": [
    "뭔가 보니까 `selenium`과 `playwright`가 동일한 기능을 하는 라이브러리 같다. \n",
    "조사해보니 아래와 같은 차이점\n",
    "\n",
    "- `playwright`: performance측면에서 좋으며 최신 web에 잘 맞음.\n",
    "- `selenium`: 오래된 브라우저에서의 호환에 의해 선택되며, 이미 selenium으로 많은 프로젝트가 진행되었어서 호환성을 기준으로 selenium을 선택함.\n",
    "\n",
    "Chapter1: 셀레니움 환경 설정\n",
    "- 셀레니움 라이브러리 설치\n",
    "- 웹드라이버 임포트\n",
    "- 웹드라이버 객체 생성\n",
    "\n",
    "Chapter2: 웹브라우저 기능 조작 한방에 끝내기\n",
    "- 원하는 페이지로 이동하는 방법\n",
    "- 브라우저 내 이동: 뒤로 가기, 앞으로 가기\n",
    "- 페이지 새로고침\n",
    "- 브라우저 세션 종료\n",
    "- 현재 URL 확인\n",
    "- 페이지 제목 확인\n",
    "- 창 크기 조절: 최대화, 최소화\n",
    "\n",
    "Chapter3: 원하는 태그 찾고 제어하기\n",
    "- CSS 선택자로 태그 찾기\n",
    "- 태그 클릭하기\n",
    "- 텍스트 입력하기\n",
    "- 키보드 키 입력하기\n",
    "- 셀레니움 기본 템플릿 정리\n",
    "\n",
    "Chapter4: 셀레니움 실전 테크닉\n",
    "- 여러태그 동시 제어\n",
    "  - 여러 태그 찾기 및 클릭하기\n",
    "- 동적 대기 기법\n",
    "  - 암시적 대기\n",
    "  - 명시적 대기\n",
    "- 고급 입력 컨트롤\n",
    "  - 입력 값 삭제\n",
    "  - 순차적 키 입력\n",
    "- 셀렉트박스 조작 방법\n",
    "  - Select 클래스를 이용한 드롭다운 메뉴 선택\n",
    "- 여러 페이지 관리\n",
    "  - 페이지 안에 다른 페이지가 있는 경우(iframe 제어방법)\n",
    "  - 새로운 창 제어 방법"
   ]
  },
  {
   "cell_type": "code",
   "execution_count": null,
   "id": "4b762ae7",
   "metadata": {},
   "outputs": [],
   "source": [
    "from selenium import webdriver\n",
    "\n",
    "driver = webdriver.Chrome()\n",
    "\n",
    "driver.get(\"https://www.google.com\")"
   ]
  }
 ],
 "metadata": {
  "kernelspec": {
   "display_name": "crawling",
   "language": "python",
   "name": "python3"
  },
  "language_info": {
   "name": "python",
   "version": "3.13.3"
  }
 },
 "nbformat": 4,
 "nbformat_minor": 5
}
