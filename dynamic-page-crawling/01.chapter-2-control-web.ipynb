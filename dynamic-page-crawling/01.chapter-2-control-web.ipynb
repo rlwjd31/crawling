{
 "cells": [
  {
   "cell_type": "markdown",
   "id": "53ca11d0",
   "metadata": {},
   "source": [
    "# Chapter2: 웹브라우저 기능 조작\n",
    "## 원하는 페이지로 이동하는 방법\n",
    "페이지를 이동하는 `driver.get` 메서드는 `동기` 방식으로 작동한다. 즉, 웹 페이지가 완전히 로드될 때까지 다른 작업 수행을 차단한다.\n",
    "\n",
    "관련 오류\n",
    "- `NoSuchWindowException`: 이미 꺼진 창을 실행하려고 할 때 발생하는 오류\n",
    "\n",
    "```python\n",
    "from selenium import webdriver\n",
    "\n",
    "driver = webdriver.Chrome()\n",
    "\n",
    "# 페이지 이동\n",
    "driver.get(\"https://www.google.com\")\n",
    "```\n",
    "\n",
    "## 브라우저 내 이동: 뒤로 가기, 앞으로 가기, 새로고침\n",
    "- `back`: 뒤로 가기\n",
    "- `forward`: 앞으로 가기\n",
    "- `refresh`: 새로고침\n",
    "\n",
    "```python\n",
    "driver.back()\n",
    "driver.forward()\n",
    "driver.refresh()\n",
    "```\n",
    "\n",
    "## 브라우저 세션 종료\n",
    "- `close`: 현재 활성화된 창만 닫는다. 여러 창이 있을 때 현재 창만 닫음\n",
    "- `quit`: 모든 창 닫고, webDriver 세션 종료  \n",
    "\n",
    "```python\n",
    "driver.close()\n",
    "driver.quit()\n",
    "```\n",
    "## 현재 URL 확인\n",
    "현재 열려 있는 부라우저 창의 URL을 `string type`으로 가져온다.  \n",
    "`읽기 전용`으로 가져온 url을 변경할 수 없으며 만약 `redirection`이 발생하면 redirection이 되어 `최종으로 도착한 url을 반환`한다.  \n",
    "\n",
    "- `current_url`: 현재 페이지의 URL을 반환\n",
    "\n",
    "```python\n",
    "print(driver.current_url)\n",
    "```\n",
    "\n",
    "## 페이지 제목 확인\n",
    "현재 접속한 사이트의 제목을 반환한다. 즉, `<title>` 태그에 작성된 text를 반환한다.  \n",
    "`특정 페이지에 잘 도달했는지 확인`하는 용도로 많이 사용된다.\n",
    "\n",
    "\n",
    "- `title`: 현재 페이지의 제목 반환  \n",
    "\n",
    "```python\n",
    "driver.title\n",
    "```\n",
    "\n",
    "## 창 크기 조절: 최대화, 최소화\n",
    "\n",
    "말 그대로 브라우저 창의 크기를 최대, 최소화를 한다.  \n",
    "> 💡 주의점은 `최소화를 하게 되면 명령어가 잘 동작하지 않는 경우가 존재`한다.\n",
    "\n",
    "- `maximize_window`: 현재 브라우저 창 최대화\n",
    "- `minimize_window`: 현재 브라우저 창 최소화\n",
    "\n",
    "```python\n",
    "driver.maximize_window()\n",
    "driver.minimize_window()\n",
    "```\n",
    "\n"
   ]
  },
  {
   "cell_type": "markdown",
   "id": "d1549b36",
   "metadata": {},
   "source": [
    "## Chapter2 직접 해보기"
   ]
  },
  {
   "cell_type": "code",
   "execution_count": 16,
   "id": "3fda9be5",
   "metadata": {},
   "outputs": [],
   "source": [
    "from selenium import webdriver\n",
    "\n",
    "driver = webdriver.Chrome()"
   ]
  },
  {
   "cell_type": "code",
   "execution_count": 17,
   "id": "5f509c9e",
   "metadata": {},
   "outputs": [],
   "source": [
    "driver.get(\"https://www.google.com\")"
   ]
  },
  {
   "cell_type": "code",
   "execution_count": 18,
   "id": "08d4b03e",
   "metadata": {},
   "outputs": [],
   "source": [
    "driver.back() # data:,"
   ]
  },
  {
   "cell_type": "code",
   "execution_count": 19,
   "id": "3866f445",
   "metadata": {},
   "outputs": [],
   "source": [
    "driver.forward() # google"
   ]
  },
  {
   "cell_type": "code",
   "execution_count": 20,
   "id": "f893d04f",
   "metadata": {},
   "outputs": [],
   "source": [
    "driver.refresh()"
   ]
  },
  {
   "cell_type": "code",
   "execution_count": 21,
   "id": "9fcb767b",
   "metadata": {},
   "outputs": [
    {
     "data": {
      "text/plain": [
       "'https://www.google.com/'"
      ]
     },
     "execution_count": 21,
     "metadata": {},
     "output_type": "execute_result"
    }
   ],
   "source": [
    "driver.current_url"
   ]
  },
  {
   "cell_type": "code",
   "execution_count": 22,
   "id": "32083135",
   "metadata": {},
   "outputs": [
    {
     "data": {
      "text/plain": [
       "'Google'"
      ]
     },
     "execution_count": 22,
     "metadata": {},
     "output_type": "execute_result"
    }
   ],
   "source": [
    "driver.title"
   ]
  },
  {
   "cell_type": "code",
   "execution_count": 23,
   "id": "2bf30a98",
   "metadata": {},
   "outputs": [],
   "source": [
    "driver.maximize_window()"
   ]
  },
  {
   "cell_type": "code",
   "execution_count": 24,
   "id": "e038b107",
   "metadata": {},
   "outputs": [],
   "source": [
    "driver.minimize_window()"
   ]
  },
  {
   "cell_type": "code",
   "execution_count": 25,
   "id": "3d767b7d",
   "metadata": {},
   "outputs": [],
   "source": [
    "driver.quit()"
   ]
  }
 ],
 "metadata": {
  "kernelspec": {
   "display_name": "crawling",
   "language": "python",
   "name": "python3"
  },
  "language_info": {
   "codemirror_mode": {
    "name": "ipython",
    "version": 3
   },
   "file_extension": ".py",
   "mimetype": "text/x-python",
   "name": "python",
   "nbconvert_exporter": "python",
   "pygments_lexer": "ipython3",
   "version": "3.13.3"
  }
 },
 "nbformat": 4,
 "nbformat_minor": 5
}
