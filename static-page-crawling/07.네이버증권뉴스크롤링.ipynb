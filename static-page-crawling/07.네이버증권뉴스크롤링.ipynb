{
 "cells": [
  {
   "cell_type": "markdown",
   "id": "db84abfa",
   "metadata": {},
   "source": [
    "# 한 뉴스 크롤링"
   ]
  },
  {
   "cell_type": "code",
   "execution_count": null,
   "id": "8dd13757",
   "metadata": {},
   "outputs": [
    {
     "name": "stdout",
     "output_type": "stream",
     "text": [
      "글로벌 투자은행(IB)이 ‘인공지능(AI) 붐’에 올라탄 SK하이닉스의 목표주가를 앞다퉈 높이고 있다. 고대역폭메모리(HBM) 반도체를..\n",
      "한국경제 \n",
      "2025-10-30 17:26:09\n"
     ]
    }
   ],
   "source": [
    "import requests\n",
    "from bs4 import BeautifulSoup\n",
    "from urllib.parse import urljoin\n",
    "\n",
    "BASE_URL = \"https://finance.naver.com/\"\n",
    "url = \"https://finance.naver.com/news/mainnews.naver?date=2025-10-30&page=2\"\n",
    "response = requests.get(url)\n",
    "html = response.text\n",
    "soup = BeautifulSoup(html, \"html.parser\")\n",
    "\n",
    "# get subject\n",
    "subject = soup.select_one(\".articleSubject > a\").text\n",
    "\n",
    "# get detail article url\n",
    "article_path_with_query = soup.select_one(\".articleSubject > a\").get(\"href\")\n",
    "detail_article_url = urljoin(BASE_URL, article_path_with_query)\n",
    "\n",
    "# get content\n",
    "content_tag = soup.select_one(\".articleSummary\")\n",
    "content = content_tag.contents[0].strip()\n",
    "press = content_tag.select_one(\".press\").text\n",
    "article_date = content_tag.select_one(\".wdate\").text\n",
    "\n",
    "print(content)\n",
    "print(press)\n",
    "print(article_date)\n"
   ]
  },
  {
   "cell_type": "markdown",
   "id": "527c39b9",
   "metadata": {},
   "source": [
    "# 페이지에 존재하는 모든 뉴스 크롤링"
   ]
  },
  {
   "cell_type": "code",
   "execution_count": null,
   "id": "d269bc7d",
   "metadata": {},
   "outputs": [
    {
     "name": "stdout",
     "output_type": "stream",
     "text": [
      "{'subject': '엔비디아 시총 5조弗, 독일 GDP도 넘어섰다', 'detail_article_url': 'https://finance.naver.com/news/news_read.naver?article_id=0005204743&office_id=015&mode=mainnews&type=&date=2025-10-30&page=2', 'content': '이 기사는 국내 최대 해외 투자정보 플랫폼 한경 글로벌마켓에 게재된 기사입니다. 엔비디아의 시가총액이 29일(현지시간) 사상 처음으로 ..', 'press': '한국경제 ', 'article_date': '2025-10-30 17:39:16'}\n",
      "{'subject': \"AI투자 부담 … MS·메타 역대급 실적에도 '우울'\", 'detail_article_url': 'https://finance.naver.com/news/news_read.naver?article_id=0005582100&office_id=009&mode=mainnews&type=&date=2025-10-30&page=2', 'content': '3분기 매출 큰폭 증가 불구 막대한 투자비용에 발목잡혀 AI 수익화 앞선 구글은 급등 글로벌 빅테크 기업인 구글, 마이크로소프트(MS)..', 'press': '매일경제 ', 'article_date': '2025-10-30 17:38:09'}\n",
      "{'subject': '글로벌IB \"K반도체 사라\"…하이닉스 목표가 70만원', 'detail_article_url': 'https://finance.naver.com/news/news_read.naver?article_id=0005204717&office_id=015&mode=mainnews&type=&date=2025-10-30&page=2', 'content': '글로벌 투자은행(IB)이 ‘인공지능(AI) 붐’에 올라탄 SK하이닉스의 목표주가를 앞다퉈 높이고 있다. 고대역폭메모리(HBM) 반도체를..', 'press': '한국경제 ', 'article_date': '2025-10-30 17:26:09'}\n",
      "{'subject': '지금 반도체 투자 고민한다면', 'detail_article_url': 'https://finance.naver.com/news/news_read.naver?article_id=0005204712&office_id=015&mode=mainnews&type=&date=2025-10-30&page=2', 'content': '한국 증시와 메모리 반도체를 얘기하지 않을 수 없는 시기다. 코스피지수는 지난달 이후 20% 넘게 올랐다. 주요국 증시 중 최상위 성과..', 'press': '한국경제 ', 'article_date': '2025-10-30 17:23:22'}\n",
      "{'subject': '이데일리ON 파트너가 내다본 11월 증시 전망은?', 'detail_article_url': 'https://finance.naver.com/news/news_read.naver?article_id=0006151605&office_id=018&mode=mainnews&type=&date=2025-10-30&page=2', 'content': '박근호 파트너, 함진희 파트너(사진=이데일리ON) 올해 들어 코스피 지수가 약 66% 상승하며 글로벌 증시 가운데 가장 높은 상승률을 ..', 'press': '이데일리 ', 'article_date': '2025-10-30 17:21:10'}\n",
      "{'subject': '내년 ‘오천피’ 가능, 정책은 일관돼야… 입 모은 리서치센터장들', 'detail_article_url': 'https://finance.naver.com/news/news_read.naver?article_id=0001118859&office_id=366&mode=mainnews&type=&date=2025-10-30&page=2', 'content': '30일 코스피 5000시대 도약을 위한 시장전문가 간담회 센터장 “세제 개편 현실화·ETF 다변화·산업 경쟁력 등 필요” 증권사 리서치..', 'press': '조선비즈 ', 'article_date': '2025-10-30 17:17:10'}\n",
      "{'subject': '“한 주에 무려 210만원” ‘황제주’ 찍은 효성중공업 [종목Pick]', 'detail_article_url': 'https://finance.naver.com/news/news_read.naver?article_id=0002550253&office_id=016&mode=mainnews&type=&date=2025-10-30&page=2', 'content': '미국 송전망에 설치된 효성중공업 765kV 초고압변압기. [효성중공업 제공] 효성중공업의 주가가 5%대 강세를 보이며 200만원을 돌파..', 'press': '헤럴드경제 ', 'article_date': '2025-10-30 17:14:14'}\n",
      "{'subject': '그린광학, 고평가·오버행 위험 우려에도… \"불확실성 돌파 자신\"', 'detail_article_url': 'https://finance.naver.com/news/news_read.naver?article_id=0001110231&office_id=417&mode=mainnews&type=&date=2025-10-30&page=2', 'content': '설립 30여년 만에 코스닥 기술특례 상장에 도전하는 반도체·방산 관련 초정밀 광학 시스템 기업 그린광학이 상장 문턱에서 가치 평가와 오..', 'press': '머니S ', 'article_date': '2025-10-30 17:13:45'}\n",
      "{'subject': '한미 관세합의에 반쯤 웃은 증시…시진핑의 입 주목 [관세협상 타결 그후]', 'detail_article_url': 'https://finance.naver.com/news/news_read.naver?article_id=0003018976&office_id=119&mode=mainnews&type=&date=2025-10-30&page=2', 'content': \"장기화가 예상됐던 한미 관세협상이 최종 타결되고 미중 정상이 '무역전쟁 자제'에 합의함에 따라 코스피 지수가 장중 4100선을 돌파했지..\", 'press': '데일리안 ', 'article_date': '2025-10-30 17:09:11'}\n",
      "{'subject': '주가 200만원 넘어선 효성중공업…‘사천피 시대’ 늘어나는 황제주', 'detail_article_url': 'https://finance.naver.com/news/news_read.naver?article_id=0006151567&office_id=018&mode=mainnews&type=&date=2025-10-30&page=2', 'content': '코스피 4000포인트 시대에 진입하면서 주당 100만원을 넘보는 ‘황제주’ 후보가 빠르게 늘어나고 있다. 심지어 주당 가격이 200만원..', 'press': '이데일리 ', 'article_date': '2025-10-30 17:08:30'}\n",
      "{'subject': '매파적 금리 인하 직후…한국 국채들, 나란히 금리 연중 최고', 'detail_article_url': 'https://finance.naver.com/news/news_read.naver?article_id=0005271106&office_id=008&mode=mainnews&type=&date=2025-10-30&page=2', 'content': '미국의 매파적 금리 인하 직후 한국 국채 금리가 사실상 모두 연중 최고치를 찍었다. 미국의 금리 인하 기대감이 꺾인 가운데 최근 국내 ..', 'press': '머니투데이 ', 'article_date': '2025-10-30 17:07:51'}\n",
      "{'subject': '‘오천피’ 시대? “반도체 업황 회복·세제 개편·지배구조 개선 필수적”', 'detail_article_url': 'https://finance.naver.com/news/news_read.naver?article_id=0002990498&office_id=029&mode=mainnews&type=&date=2025-10-30&page=2', 'content': '국내 증시가 사상 첫 4000선을 돌파한 가운데, 시장 전문가들은 “반도체 업황 회복과 정부의 증시 활성화 정책이 맞물리면 코스피 50..', 'press': '디지털타임스 ', 'article_date': '2025-10-30 17:02:45'}\n",
      "{'subject': '\"코스피 5000 달성, 반도체 사이클 지속·기관 투자 확대 등 관건\"', 'detail_article_url': 'https://finance.naver.com/news/news_read.naver?article_id=0001110226&office_id=417&mode=mainnews&type=&date=2025-10-30&page=2', 'content': '호황인 반도체시장 사이클 지속과 기관·외인 투자 확대를 비롯해 정부의 투자 유인 정책이 동반돼야 한다.\" 최근 사상 첫 4000 포인트..', 'press': '머니S ', 'article_date': '2025-10-30 17:00:35'}\n",
      "{'subject': '‘삼전·하이닉스’보다 더 올랐다…AI 수혜로 떠오른 2차전지株 한 달 새 급등 [투자360]', 'detail_article_url': 'https://finance.naver.com/news/news_read.naver?article_id=0002550246&office_id=016&mode=mainnews&type=&date=2025-10-30&page=2', 'content': 'AI 투자 확산·中 수출 규제 반사 수혜 기대 전기차 둔화세에 “LFP·ESS 라인 보유 기업 중심 옥석 가리기 본격화” [헤럴드경제=..', 'press': '헤럴드경제 ', 'article_date': '2025-10-30 17:00:11'}\n",
      "{'subject': '“정책 오락가락하면 안돼…일관성만 있어도 5000피 충분히 간다\"', 'detail_article_url': 'https://finance.naver.com/news/news_read.naver?article_id=0006151544&office_id=018&mode=mainnews&type=&date=2025-10-30&page=2', 'content': '반도체 업황 개선에 따른 이익 성장만으로도 내년 코스피가 현 수준보다 20% 이상 오를 수 있다는 분석이 나왔다. 여기에 장기투자를 유..', 'press': '이데일리 ', 'article_date': '2025-10-30 16:59:10'}\n",
      "{'subject': \"한-미 관세협상 '최대수혜주' 차·조선 신고가 행진[핫종목]\", 'detail_article_url': 'https://finance.naver.com/news/news_read.naver?article_id=0008575004&office_id=421&mode=mainnews&type=&date=2025-10-30&page=2', 'content': '한미 관세 협상 타결로 대표 수혜 종목인 현대차(005380)와 한화오션(042660)이 상승 마감했다. 장 마감께 상승 폭을 좁혔으나..', 'press': '뉴스1 ', 'article_date': '2025-10-30 16:57:52'}\n",
      "{'subject': '증권사 센터장들 \"내년 코스피 4,500+α 전망…5,000도 가능\"', 'detail_article_url': 'https://finance.naver.com/news/news_read.naver?article_id=0015713294&office_id=001&mode=mainnews&type=&date=2025-10-30&page=2', 'content': '한국거래소, 리서치센터장 간담회…\"시총 20% 증가 여력 있다\" \"코스피 5,000 가려면 세제 개편 비롯 종합적 지원 필요\" 국내 주..', 'press': '연합뉴스 ', 'article_date': '2025-10-30 16:44:25'}\n",
      "{'subject': '코스피 연일 사상최고 경신…이재명 대통령 투자 성적표는?', 'detail_article_url': 'https://finance.naver.com/news/news_read.naver?article_id=0005582019&office_id=009&mode=mainnews&type=&date=2025-10-30&page=2', 'content': '코스피 지수가 연일 최고치를 경신하는 가운데, 지난 5월 상장지수펀드(ETF)에 투자한 이재명 대통령도 코스피200 지수 추종 ETF로..', 'press': '매일경제 ', 'article_date': '2025-10-30 16:34:13'}\n",
      "{'subject': '車·반도체·조선 ‘관세 수혜’…대미 투자 부담도 줄었다 [투자360]', 'detail_article_url': 'https://finance.naver.com/news/news_read.naver?article_id=0002550219&office_id=016&mode=mainnews&type=&date=2025-10-30&page=2', 'content': '車 관세 25→15% 인하…반도체는 대만과 동등 대우 대미 현금 투자 연 200억달러로 제한…조선 협력 1500억달러 구성 환율·유동성..', 'press': '헤럴드경제 ', 'article_date': '2025-10-30 16:32:16'}\n",
      "{'subject': '코스피 또 사상 최고 돌파…4100선 첫 진입 후 숨고르기 [투자360]', 'detail_article_url': 'https://finance.naver.com/news/news_read.naver?article_id=0002550218&office_id=016&mode=mainnews&type=&date=2025-10-30&page=2', 'content': '외인·기관 매도 속 개인 견인 “반도체는 달리고, 2차전지는 쉬고” 30일 코스피가 4086.89에 장을 종료한 가운데 신한은행 딜링룸..', 'press': '헤럴드경제 ', 'article_date': '2025-10-30 16:29:10'}\n",
      "/news/news_read.naver?article_id=0005204743&office_id=015&mode=mainnews&type=&date=2025-10-30&page=2\n"
     ]
    }
   ],
   "source": [
    "\n",
    "import requests\n",
    "from bs4 import BeautifulSoup\n",
    "from urllib.parse import urljoin, urlencode\n",
    "from datetime import datetime\n",
    "\n",
    "ROOT = \"https://finance.naver.com/\"\n",
    "PATH = \"news/mainnews.naver\"\n",
    "\n",
    "def get_news_page_url(date, page):\n",
    "  base_url = urljoin(ROOT, PATH)\n",
    "  query_string = urlencode({\"date\": date, \"page\": page})\n",
    "\n",
    "  return f\"{base_url}?{query_string}\"\n",
    "\n",
    "def get_detail_news_url(path):\n",
    "  return urljoin(ROOT, path)\n",
    "\n",
    "def get_current_date(format: str =\"%Y-%m-%d\") -> str:\n",
    "  now = datetime.now()\n",
    "\n",
    "  return now.strftime(format)  \n",
    "\n",
    "\n",
    "PAGE_COUNT = 2\n",
    "response = requests.get(get_news_page_url(\"2025-10-30\", 2))\n",
    "soup = BeautifulSoup(response.text, \"html.parser\")\n",
    "\n",
    "news_per_page = soup.select(\".block1\")\n",
    "\n",
    "\n",
    "for article_card in news_per_page:\n",
    "  # subject\n",
    "  subject = article_card.select_one(\".articleSubject > a\").text\n",
    "  \n",
    "  # detail article link\n",
    "  detail_article_url = get_detail_news_url(article_card.select_one(\".articleSubject > a\").get(\"href\"))\n",
    "\n",
    "  # content\n",
    "  content_tag = article_card.select_one(\".articleSummary\")\n",
    "  content = content_tag.contents[0].strip()\n",
    "  press = content_tag.select_one(\".press\").text\n",
    "  article_date = content_tag.select_one(\".wdate\").text\n",
    "\n",
    "  # print(\"subject =>\", subject)\n",
    "  print({\n",
    "    \"subject\": subject,\n",
    "    \"detail_article_url\": detail_article_url,\n",
    "    \"content\": content,\n",
    "    \"press\": press,\n",
    "    \"article_date\": article_date\n",
    "  })"
   ]
  }
 ],
 "metadata": {
  "kernelspec": {
   "display_name": "crawling",
   "language": "python",
   "name": "python3"
  },
  "language_info": {
   "codemirror_mode": {
    "name": "ipython",
    "version": 3
   },
   "file_extension": ".py",
   "mimetype": "text/x-python",
   "name": "python",
   "nbconvert_exporter": "python",
   "pygments_lexer": "ipython3",
   "version": "3.13.3"
  }
 },
 "nbformat": 4,
 "nbformat_minor": 5
}
