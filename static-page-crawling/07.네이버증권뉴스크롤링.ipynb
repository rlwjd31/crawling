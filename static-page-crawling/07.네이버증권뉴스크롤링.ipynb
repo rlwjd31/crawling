{
 "cells": [
  {
   "cell_type": "markdown",
   "id": "db84abfa",
   "metadata": {},
   "source": [
    "# 한 뉴스 크롤링"
   ]
  },
  {
   "cell_type": "code",
   "execution_count": null,
   "id": "8dd13757",
   "metadata": {},
   "outputs": [
    {
     "name": "stdout",
     "output_type": "stream",
     "text": [
      "글로벌 투자은행(IB)이 ‘인공지능(AI) 붐’에 올라탄 SK하이닉스의 목표주가를 앞다퉈 높이고 있다. 고대역폭메모리(HBM) 반도체를..\n",
      "한국경제 \n",
      "2025-10-30 17:26:09\n"
     ]
    }
   ],
   "source": [
    "import requests\n",
    "from bs4 import BeautifulSoup\n",
    "from urllib.parse import urljoin\n",
    "\n",
    "BASE_URL = \"https://finance.naver.com/\"\n",
    "url = \"https://finance.naver.com/news/mainnews.naver?date=2025-10-30&page=2\"\n",
    "response = requests.get(url)\n",
    "html = response.text\n",
    "soup = BeautifulSoup(html, \"html.parser\")\n",
    "\n",
    "# get subject\n",
    "subject = soup.select_one(\".articleSubject > a\").text\n",
    "\n",
    "# get detail article url\n",
    "article_path_with_query = soup.select_one(\".articleSubject > a\").get(\"href\")\n",
    "detail_article_url = urljoin(BASE_URL, article_path_with_query)\n",
    "\n",
    "# get content\n",
    "content_tag = soup.select_one(\".articleSummary\")\n",
    "content = content_tag.contents[0].strip()\n",
    "press = content_tag.select_one(\".press\").text\n",
    "article_date = content_tag.select_one(\".wdate\").text\n",
    "\n",
    "print(content)\n",
    "print(press)\n",
    "print(article_date)\n"
   ]
  }
 ],
 "metadata": {
  "kernelspec": {
   "display_name": "crawling",
   "language": "python",
   "name": "python3"
  },
  "language_info": {
   "codemirror_mode": {
    "name": "ipython",
    "version": 3
   },
   "file_extension": ".py",
   "mimetype": "text/x-python",
   "name": "python",
   "nbconvert_exporter": "python",
   "pygments_lexer": "ipython3",
   "version": "3.13.3"
  }
 },
 "nbformat": 4,
 "nbformat_minor": 5
}
