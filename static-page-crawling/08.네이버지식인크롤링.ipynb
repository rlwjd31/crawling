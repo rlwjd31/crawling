{
 "cells": [
  {
   "cell_type": "markdown",
   "id": "a5515a1d",
   "metadata": {},
   "source": [
    "# 네이버지식인 크롤링\n",
    "\n",
    "site url: https://kin.naver.com/search/list.naver?query=%EB%B0%94%EC%9D%B4%EB%B8%8C%EC%BD%94%EB%94%A9\n",
    "\n",
    "crawling 결과\n",
    "- 제목\n",
    "- 링크\n",
    "- 날짜\n",
    "- 카테고리\n",
    "- 답변수\n",
    "\n",
    "## selector에 특수 문자가 있는 경우\n",
    "`class=\"txt_g1 _nclicks:kin.cat1\"`가 있다고 가정하자.  \n",
    "여기서 알맞게 select를 하려면 `특수문자를 escape` 처리해야 한다.  \n",
    "이 때 `class indicator`인 맨 앞에 존재하는 `.`문자는 배제해야 한다.\n",
    "\n",
    "_**AS-IS**_  \n",
    "`\"txt_g1 _nclicks:kin.cat1\"`\n",
    "\n",
    "_**TO-BE**_\n",
    "1. 개발자 도구: .txt\\_g1.\\_nclicks\\:kin\\.cat1\n",
    "   👉🏻 `\\`하나만 사용하여 escape 처리\n",
    "2. python: .txt\\\\_g1.\\\\_nclicks\\\\:kin\\\\.cat1\n",
    "   👉🏻 `\\`를 두 개인 `\\\\`를 사용하여 escape 처리\n",
    "\n"
   ]
  },
  {
   "cell_type": "markdown",
   "id": "d41a2a92",
   "metadata": {},
   "source": [
    "# 하나의 지식인만 크롤링\n"
   ]
  },
  {
   "cell_type": "code",
   "execution_count": 79,
   "id": "86620e2a",
   "metadata": {},
   "outputs": [
    {
     "name": "stdout",
     "output_type": "stream",
     "text": [
      "바이브코딩 공부 필요없나요?\n",
      "https://kin.naver.com/qna/detail.naver?d1id=1&dirId=104&docId=485315883&qb=67CU7J2067iM7L2U65Sp&enc=utf8\n",
      "2025.08.06\n",
      "프로그래밍\n",
      "10\n"
     ]
    }
   ],
   "source": [
    "import requests\n",
    "from bs4 import BeautifulSoup\n",
    "from urllib.parse import urljoin, urlencode\n",
    "\n",
    "ROOT = \"https://kin.naver.com\"\n",
    "query=\"바이브코딩\"\n",
    "PATH = \"search/list.naver\"\n",
    "\n",
    "def get_kin_url(root, path,query):\n",
    "  base_url = urljoin(root, path)\n",
    "  query_string = urlencode({\"query\": query})\n",
    "\n",
    "  return f\"{base_url}?{query_string}\"\n",
    "\n",
    "url = get_kin_url(ROOT, PATH, query)\n",
    "response = requests.get(url)\n",
    "soup = BeautifulSoup(response.text, \"html.parser\")\n",
    "one_kin_card = soup.select_one(\".basic1 > li:nth-of-type(2)\")\n",
    "\n",
    "title = one_kin_card.select_one(\"._searchListTitleAnchor\").text\n",
    "link = one_kin_card.select_one(\"._searchListTitleAnchor\").get(\"href\")\n",
    "date = one_kin_card.select_one(\".txt_inline\").text[:-1]\n",
    "category = one_kin_card.select_one(\"._nclicks\\\\:kin\\\\.cat2\").text\n",
    "answer_count = one_kin_card.select_one(\".hit\").text.split(\" \")[-1]\n",
    "\n",
    "print(title, link, date, category, answer_count, sep=\"\\n\")"
   ]
  }
 ],
 "metadata": {
  "kernelspec": {
   "display_name": "crawling",
   "language": "python",
   "name": "python3"
  },
  "language_info": {
   "codemirror_mode": {
    "name": "ipython",
    "version": 3
   },
   "file_extension": ".py",
   "mimetype": "text/x-python",
   "name": "python",
   "nbconvert_exporter": "python",
   "pygments_lexer": "ipython3",
   "version": "3.13.3"
  }
 },
 "nbformat": 4,
 "nbformat_minor": 5
}
